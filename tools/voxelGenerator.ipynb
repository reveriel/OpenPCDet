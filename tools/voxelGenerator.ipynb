{
 "cells": [
  {
   "cell_type": "code",
   "execution_count": 1,
   "metadata": {},
   "outputs": [],
   "source": [
    "# 检查 \n",
    "from spconv.utils import VoxelGeneratorV3, VoxelGeneratorV3Old"
   ]
  },
  {
   "cell_type": "code",
   "execution_count": 2,
   "metadata": {},
   "outputs": [
    {
     "name": "stderr",
     "output_type": "stream",
     "text": [
      "2020-08-19 04:23:52,709   INFO  Database filter by min points Car: 14357 => 13532\n",
      "2020-08-19 04:23:52,711   INFO  Database filter by min points Pedestrian: 2207 => 2168\n",
      "2020-08-19 04:23:52,712   INFO  Database filter by min points Cyclist: 734 => 705\n",
      "2020-08-19 04:23:52,731   INFO  Database filter by difficulty Car: 13532 => 10759\n",
      "2020-08-19 04:23:52,735   INFO  Database filter by difficulty Pedestrian: 2168 => 2075\n",
      "2020-08-19 04:23:52,737   INFO  Database filter by difficulty Cyclist: 705 => 581\n",
      "2020-08-19 04:23:52,755   INFO  Loading KITTI dataset\n",
      "2020-08-19 04:23:52,875   INFO  Total samples for KITTI dataset: 3712\n"
     ]
    },
    {
     "name": "stdout",
     "output_type": "stream",
     "text": [
      "voxelmap_shape =  (40, 512, 512)\n"
     ]
    }
   ],
   "source": [
    "from pcdet.datasets import build_dataloader\n",
    "from pcdet.config import cfg, cfg_from_yaml_file\n",
    "from pcdet.utils import common_utils\n",
    "from pathlib import Path\n",
    "\n",
    "cfg_from_yaml_file('cfgs/kitti_models/sphoxelnet_simple.yaml', cfg)\n",
    "logger = common_utils.create_logger()\n",
    "\n",
    "train_set, train_loader, train_sampler = build_dataloader(\n",
    "        dataset_cfg=cfg.DATA_CONFIG,\n",
    "        class_names=cfg.CLASS_NAMES,\n",
    "        batch_size=1,\n",
    "        dist=False, workers=1,\n",
    "        logger=logger,\n",
    "        training=True,\n",
    "        merge_all_iters_to_one_epoch=False,\n",
    "        total_epochs=10\n",
    "    )"
   ]
  },
  {
   "cell_type": "code",
   "execution_count": 3,
   "metadata": {},
   "outputs": [
    {
     "data": {
      "text/plain": [
       "array([[28.545393  , 21.347494  ,  0.15326603,  0.        ],\n",
       "       [28.396122  , 21.375402  ,  0.15326603,  0.        ],\n",
       "       [28.29058   , 21.435343  ,  0.15326603,  0.        ],\n",
       "       ...,\n",
       "       [ 6.0171165 ,  1.9681021 , -1.6516429 ,  0.3       ],\n",
       "       [ 6.0013285 ,  1.9838797 , -1.6496264 ,  0.3       ],\n",
       "       [ 6.0008707 ,  2.0050735 , -1.6506346 ,  0.35      ]],\n",
       "      dtype=float32)"
      ]
     },
     "execution_count": 3,
     "metadata": {},
     "output_type": "execute_result"
    }
   ],
   "source": [
    "train_set[0]['points']"
   ]
  },
  {
   "cell_type": "code",
   "execution_count": 11,
   "metadata": {},
   "outputs": [],
   "source": [
    "x_start = 6.\n",
    "x_end = 70.4\n",
    "x_n = 10000\n",
    "\n",
    "y_start = -38.\n",
    "y_end = 38.\n",
    "y_n = 10000\n",
    "import numpy as np"
   ]
  },
  {
   "cell_type": "code",
   "execution_count": 12,
   "metadata": {},
   "outputs": [],
   "source": [
    "points = np.array([[x, y, 0.3, 0] for x in np.linspace(x_start, x_end, x_n) \n",
    "                   for y in np.linspace(y_start, y_end, y_n)], dtype=np.float32)"
   ]
  },
  {
   "cell_type": "code",
   "execution_count": 13,
   "metadata": {},
   "outputs": [
    {
     "name": "stdout",
     "output_type": "stream",
     "text": [
      "voxelmap_shape =  (40, 512, 512)\n"
     ]
    }
   ],
   "source": [
    "import numpy as np\n",
    "vg = VoxelGeneratorV3(np.array([0.004809441003781137, 0.17578125, 0.41875]),\n",
    "                    np.array([6, -40, -3, 70.4, 40, 1]),\n",
    "                    np.array([1.791759469228055,  -45, 86.65, 4.254193263163997, 45, 103.4]),\n",
    "                      2, 10000)\n",
    "voxels = vg.generate(points)"
   ]
  },
  {
   "cell_type": "code",
   "execution_count": 14,
   "metadata": {},
   "outputs": [],
   "source": [
    "vgo = VoxelGeneratorV3Old(np.array([0.004809441003781137, 0.17578125, 0.41875]),\n",
    "                    np.array([6,  -45, 86.65, 4.254193263163997, 45, 103.4]),\n",
    "                          2, 10000)\n",
    "voxels_old = vgo.generate(points,10000)"
   ]
  },
  {
   "cell_type": "code",
   "execution_count": 15,
   "metadata": {},
   "outputs": [
    {
     "data": {
      "text/plain": [
       "(10000, 3)"
      ]
     },
     "execution_count": 15,
     "metadata": {},
     "output_type": "execute_result"
    }
   ],
   "source": [
    "voxels['coordinates'].shape"
   ]
  },
  {
   "cell_type": "code",
   "execution_count": 16,
   "metadata": {},
   "outputs": [
    {
     "data": {
      "text/plain": [
       "(10000, 3)"
      ]
     },
     "execution_count": 16,
     "metadata": {},
     "output_type": "execute_result"
    }
   ],
   "source": [
    "voxels_old['coordinates'].shape"
   ]
  },
  {
   "cell_type": "code",
   "execution_count": 17,
   "metadata": {},
   "outputs": [
    {
     "name": "stdout",
     "output_type": "stream",
     "text": [
      "0\n"
     ]
    }
   ],
   "source": [
    "diff_sum = 0\n",
    "for (z1, y1, x1), (z2, y2, x2) in zip(voxels['coordinates'], voxels_old['coordinates']):\n",
    "    \n",
    "    diff_sum += np.abs(y1-y2) + np.abs(x1-x2)\n",
    "    \n",
    "print(diff_sum)"
   ]
  },
  {
   "cell_type": "code",
   "execution_count": null,
   "metadata": {},
   "outputs": [],
   "source": []
  },
  {
   "cell_type": "code",
   "execution_count": null,
   "metadata": {},
   "outputs": [],
   "source": []
  },
  {
   "cell_type": "code",
   "execution_count": null,
   "metadata": {},
   "outputs": [],
   "source": []
  }
 ],
 "metadata": {
  "kernelspec": {
   "display_name": "conda sphconv",
   "language": "python",
   "name": "sphconv"
  },
  "language_info": {
   "codemirror_mode": {
    "name": "ipython",
    "version": 3
   },
   "file_extension": ".py",
   "mimetype": "text/x-python",
   "name": "python",
   "nbconvert_exporter": "python",
   "pygments_lexer": "ipython3",
   "version": "3.7.7"
  }
 },
 "nbformat": 4,
 "nbformat_minor": 4
}
