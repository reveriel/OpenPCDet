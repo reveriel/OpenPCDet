{
 "cells": [
  {
   "cell_type": "code",
   "execution_count": 11,
   "metadata": {},
   "outputs": [],
   "source": [
    "# %%\n",
    "import os\n",
    "from os import path\n",
    "from pcdet.utils import common_utils\n",
    "from pcdet.models import build_network, load_data_to_gpu\n",
    "from pcdet.datasets import DatasetTemplate\n",
    "from pcdet.config import cfg, cfg_from_yaml_file\n",
    "import torch\n",
    "import numpy as np\n",
    "import argparse\n",
    "import glob\n",
    "from pathlib import Path\n",
    "from eval_utils import eval_utils\n",
    "\n",
    "# from tools.visual_utils import visualize_utils as V\n",
    "ABS_PATH_PREFIX = os.getcwd()\n",
    "\n",
    "\n",
    "# %matplotlib inline\n",
    "# %matplotlib notebook\n",
    "%matplotlib widget\n",
    "import matplotlib.pyplot as plt"
   ]
  },
  {
   "cell_type": "code",
   "execution_count": null,
   "metadata": {},
   "outputs": [],
   "source": []
  },
  {
   "cell_type": "code",
   "execution_count": 2,
   "metadata": {},
   "outputs": [],
   "source": [
    "#%%\n",
    "class Args:\n",
    "    def __init__(self):\n",
    "        self.cfg_file = path.join(\n",
    "            ABS_PATH_PREFIX,  'cfgs/kitti_models/second.yaml')\n",
    "        self.data_path = path.join(\n",
    "            ABS_PATH_PREFIX, '../data/kitti/')\n",
    "        self.ckpt = path.join(ABS_PATH_PREFIX,\n",
    "                              '../output/kitti_models/second/def/ckpt/checkpoint_epoch_50.pth')\n",
    "        self.ext = '.bin'\n",
    "        print(\"cfg _file  = \", self.cfg_file)\n"
   ]
  },
  {
   "cell_type": "code",
   "execution_count": 27,
   "metadata": {
    "tags": [
     "outputPrepend"
    ]
   },
   "outputs": [
    {
     "name": "stderr",
     "output_type": "stream",
     "text": [
      "2020-08-05 16:29:33,892   INFO  -----------------Quick Demo of OpenPCDet-------------------------\n",
      "2020-08-05 16:29:33,892   INFO  -----------------Quick Demo of OpenPCDet-------------------------\n",
      "2020-08-05 16:29:33,892   INFO  -----------------Quick Demo of OpenPCDet-------------------------\n",
      "2020-08-05 16:29:33,892   INFO  -----------------Quick Demo of OpenPCDet-------------------------\n",
      "2020-08-05 16:29:33,892   INFO  -----------------Quick Demo of OpenPCDet-------------------------\n",
      "2020-08-05 16:29:33,892   INFO  -----------------Quick Demo of OpenPCDet-------------------------\n",
      "2020-08-05 16:29:33,892   INFO  -----------------Quick Demo of OpenPCDet-------------------------\n",
      "2020-08-05 16:29:33,892   INFO  -----------------Quick Demo of OpenPCDet-------------------------\n"
     ]
    },
    {
     "name": "stdout",
     "output_type": "stream",
     "text": [
      "cfg _file  =  /home/gx/GitHub/OpenPCDet/tools/cfgs/kitti_models/second.yaml\n",
      "args =  <__main__.Args object at 0x7f8b20386710>\n",
      "cfg =  {'ROOT_DIR': PosixPath('/home/gx/GitHub/OpenPCDet'), 'LOCAL_RANK': 0, 'CLASS_NAMES': ['Car', 'Pedestrian', 'Cyclist'], 'DATA_CONFIG': {'DATASET': 'KittiDataset', 'DATA_PATH': '../data/kitti', 'POINT_CLOUD_RANGE': [0, -40, -3, 70.4, 40, 1], 'DATA_SPLIT': {'train': 'train', 'test': 'val'}, 'INFO_PATH': {'train': ['kitti_infos_train.pkl'], 'test': ['kitti_infos_val.pkl']}, 'FOV_POINTS_ONLY': True, 'DATA_AUGMENTOR': {'DISABLE_AUG_LIST': ['placeholder'], 'AUG_CONFIG_LIST': [{'NAME': 'gt_sampling', 'USE_ROAD_PLANE': False, 'DB_INFO_PATH': ['kitti_dbinfos_train.pkl'], 'PREPARE': {'filter_by_min_points': ['Car:5', 'Pedestrian:5', 'Cyclist:5'], 'filter_by_difficulty': [-1]}, 'SAMPLE_GROUPS': ['Car:20', 'Pedestrian:15', 'Cyclist:15'], 'NUM_POINT_FEATURES': 4, 'DATABASE_WITH_FAKELIDAR': False, 'REMOVE_EXTRA_WIDTH': [0.0, 0.0, 0.0], 'LIMIT_WHOLE_SCENE': True}, {'NAME': 'random_world_flip', 'ALONG_AXIS_LIST': ['x']}, {'NAME': 'random_world_rotation', 'WORLD_ROT_ANGLE': [-0.78539816, 0.78539816]}, {'NAME': 'random_world_scaling', 'WORLD_SCALE_RANGE': [0.95, 1.05]}]}, 'POINT_FEATURE_ENCODING': {'encoding_type': 'absolute_coordinates_encoding', 'used_feature_list': ['x', 'y', 'z', 'intensity'], 'src_feature_list': ['x', 'y', 'z', 'intensity']}, 'DATA_PROCESSOR': [{'NAME': 'mask_points_and_boxes_outside_range', 'REMOVE_OUTSIDE_BOXES': True}, {'NAME': 'shuffle_points', 'SHUFFLE_ENABLED': {'train': False, 'test': False}}, {'NAME': 'transform_points_to_voxels', 'VOXEL_SIZE': [0.05, 0.05, 0.1], 'MAX_POINTS_PER_VOXEL': 5, 'MAX_NUMBER_OF_VOXELS': {'train': 16000, 'test': 40000}}], '_BASE_CONFIG_': 'cfgs/dataset_configs/kitti_dataset.yaml'}, 'MODEL': {'NAME': 'SECONDNet', 'VFE': {'NAME': 'MeanVFE'}, 'BACKBONE_3D': {'NAME': 'VoxelBackBone8x'}, 'MAP_TO_BEV': {'NAME': 'HeightCompression', 'NUM_BEV_FEATURES': 256}, 'BACKBONE_2D': {'NAME': 'BaseBEVBackbone', 'LAYER_NUMS': [5, 5], 'LAYER_STRIDES': [1, 2], 'NUM_FILTERS': [128, 256], 'UPSAMPLE_STRIDES': [1, 2], 'NUM_UPSAMPLE_FILTERS': [256, 256]}, 'DENSE_HEAD': {'NAME': 'AnchorHeadSingle', 'CLASS_AGNOSTIC': False, 'USE_DIRECTION_CLASSIFIER': True, 'DIR_OFFSET': 0.78539, 'DIR_LIMIT_OFFSET': 0.0, 'NUM_DIR_BINS': 2, 'ANCHOR_GENERATOR_CONFIG': [{'class_name': 'Car', 'anchor_sizes': [[3.9, 1.6, 1.56]], 'anchor_rotations': [0, 1.57], 'anchor_bottom_heights': [-1.78], 'align_center': False, 'feature_map_stride': 8, 'matched_threshold': 0.6, 'unmatched_threshold': 0.45}, {'class_name': 'Pedestrian', 'anchor_sizes': [[0.8, 0.6, 1.73]], 'anchor_rotations': [0, 1.57], 'anchor_bottom_heights': [-0.6], 'align_center': False, 'feature_map_stride': 8, 'matched_threshold': 0.5, 'unmatched_threshold': 0.35}, {'class_name': 'Cyclist', 'anchor_sizes': [[1.76, 0.6, 1.73]], 'anchor_rotations': [0, 1.57], 'anchor_bottom_heights': [-0.6], 'align_center': False, 'feature_map_stride': 8, 'matched_threshold': 0.5, 'unmatched_threshold': 0.35}], 'TARGET_ASSIGNER_CONFIG': {'NAME': 'AxisAlignedTargetAssigner', 'POS_FRACTION': -1.0, 'SAMPLE_SIZE': 512, 'NORM_BY_NUM_EXAMPLES': False, 'MATCH_HEIGHT': False, 'BOX_CODER': 'ResidualCoder'}, 'LOSS_CONFIG': {'LOSS_WEIGHTS': {'cls_weight': 1.0, 'loc_weight': 2.0, 'dir_weight': 0.2, 'code_weights': [1.0, 1.0, 1.0, 1.0, 1.0, 1.0, 1.0]}}}, 'POST_PROCESSING': {'RECALL_THRESH_LIST': [0.3, 0.5, 0.7], 'SCORE_THRESH': 0.1, 'OUTPUT_RAW_SCORE': False, 'EVAL_METRIC': 'kitti', 'NMS_CONFIG': {'MULTI_CLASSES_NMS': False, 'NMS_TYPE': 'nms_gpu', 'NMS_THRESH': 0.01, 'NMS_PRE_MAXSIZE': 4096, 'NMS_POST_MAXSIZE': 500}}}, 'OPTIMIZATION': {'BATCH_SIZE_PER_GPU': 4, 'NUM_EPOCHS': 80, 'OPTIMIZER': 'adam_onecycle', 'LR': 0.003, 'WEIGHT_DECAY': 0.01, 'MOMENTUM': 0.9, 'MOMS': [0.95, 0.85], 'PCT_START': 0.4, 'DIV_FACTOR': 10, 'DECAY_STEP_LIST': [35, 45], 'LR_DECAY': 0.1, 'LR_CLIP': 1e-07, 'LR_WARMUP': False, 'WARMUP_EPOCH': 1, 'GRAD_NORM_CLIP': 10}}\n"
     ]
    },
    {
     "name": "stderr",
     "output_type": "stream",
     "text": [
      "2020-08-05 16:29:34,170   INFO  Loading KITTI dataset\n",
      "2020-08-05 16:29:34,170   INFO  Loading KITTI dataset\n",
      "2020-08-05 16:29:34,170   INFO  Loading KITTI dataset\n",
      "2020-08-05 16:29:34,170   INFO  Loading KITTI dataset\n",
      "2020-08-05 16:29:34,170   INFO  Loading KITTI dataset\n",
      "2020-08-05 16:29:34,170   INFO  Loading KITTI dataset\n",
      "2020-08-05 16:29:34,170   INFO  Loading KITTI dataset\n",
      "2020-08-05 16:29:34,170   INFO  Loading KITTI dataset\n",
      "2020-08-05 16:29:34,312   INFO  Total samples for KITTI dataset: 3769\n",
      "2020-08-05 16:29:34,312   INFO  Total samples for KITTI dataset: 3769\n",
      "2020-08-05 16:29:34,312   INFO  Total samples for KITTI dataset: 3769\n",
      "2020-08-05 16:29:34,312   INFO  Total samples for KITTI dataset: 3769\n",
      "2020-08-05 16:29:34,312   INFO  Total samples for KITTI dataset: 3769\n",
      "2020-08-05 16:29:34,312   INFO  Total samples for KITTI dataset: 3769\n",
      "2020-08-05 16:29:34,312   INFO  Total samples for KITTI dataset: 3769\n",
      "2020-08-05 16:29:34,312   INFO  Total samples for KITTI dataset: 3769\n",
      "2020-08-05 16:29:34,317   INFO  Total number of samples: \t3769\n",
      "2020-08-05 16:29:34,317   INFO  Total number of samples: \t3769\n",
      "2020-08-05 16:29:34,317   INFO  Total number of samples: \t3769\n",
      "2020-08-05 16:29:34,317   INFO  Total number of samples: \t3769\n",
      "2020-08-05 16:29:34,317   INFO  Total number of samples: \t3769\n",
      "2020-08-05 16:29:34,317   INFO  Total number of samples: \t3769\n",
      "2020-08-05 16:29:34,317   INFO  Total number of samples: \t3769\n",
      "2020-08-05 16:29:34,317   INFO  Total number of samples: \t3769\n",
      "2020-08-05 16:29:34,396   INFO  ==> Loading parameters from checkpoint /home/gx/GitHub/OpenPCDet/tools/../output/kitti_models/second/def/ckpt/checkpoint_epoch_50.pth to CPU\n",
      "2020-08-05 16:29:34,396   INFO  ==> Loading parameters from checkpoint /home/gx/GitHub/OpenPCDet/tools/../output/kitti_models/second/def/ckpt/checkpoint_epoch_50.pth to CPU\n",
      "2020-08-05 16:29:34,396   INFO  ==> Loading parameters from checkpoint /home/gx/GitHub/OpenPCDet/tools/../output/kitti_models/second/def/ckpt/checkpoint_epoch_50.pth to CPU\n",
      "2020-08-05 16:29:34,396   INFO  ==> Loading parameters from checkpoint /home/gx/GitHub/OpenPCDet/tools/../output/kitti_models/second/def/ckpt/checkpoint_epoch_50.pth to CPU\n",
      "2020-08-05 16:29:34,396   INFO  ==> Loading parameters from checkpoint /home/gx/GitHub/OpenPCDet/tools/../output/kitti_models/second/def/ckpt/checkpoint_epoch_50.pth to CPU\n",
      "2020-08-05 16:29:34,396   INFO  ==> Loading parameters from checkpoint /home/gx/GitHub/OpenPCDet/tools/../output/kitti_models/second/def/ckpt/checkpoint_epoch_50.pth to CPU\n",
      "2020-08-05 16:29:34,396   INFO  ==> Loading parameters from checkpoint /home/gx/GitHub/OpenPCDet/tools/../output/kitti_models/second/def/ckpt/checkpoint_epoch_50.pth to CPU\n",
      "2020-08-05 16:29:34,396   INFO  ==> Loading parameters from checkpoint /home/gx/GitHub/OpenPCDet/tools/../output/kitti_models/second/def/ckpt/checkpoint_epoch_50.pth to CPU\n",
      "2020-08-05 16:29:34,441   INFO  ==> Checkpoint trained from version: pcdet+0.2.0+b492d11\n",
      "2020-08-05 16:29:34,441   INFO  ==> Checkpoint trained from version: pcdet+0.2.0+b492d11\n",
      "2020-08-05 16:29:34,441   INFO  ==> Checkpoint trained from version: pcdet+0.2.0+b492d11\n",
      "2020-08-05 16:29:34,441   INFO  ==> Checkpoint trained from version: pcdet+0.2.0+b492d11\n",
      "2020-08-05 16:29:34,441   INFO  ==> Checkpoint trained from version: pcdet+0.2.0+b492d11\n",
      "2020-08-05 16:29:34,441   INFO  ==> Checkpoint trained from version: pcdet+0.2.0+b492d11\n",
      "2020-08-05 16:29:34,441   INFO  ==> Checkpoint trained from version: pcdet+0.2.0+b492d11\n",
      "2020-08-05 16:29:34,441   INFO  ==> Checkpoint trained from version: pcdet+0.2.0+b492d11\n"
     ]
    },
    {
     "name": "stdout",
     "output_type": "stream",
     "text": [
      "self.exp =  [False, False, False]\n",
      "feature_map_size = [array([176, 200]), array([176, 200]), array([176, 200])]\n"
     ]
    },
    {
     "name": "stderr",
     "output_type": "stream",
     "text": [
      "2020-08-05 16:29:34,590   INFO  ==> Done (loaded 163/163)\n",
      "2020-08-05 16:29:34,590   INFO  ==> Done (loaded 163/163)\n",
      "2020-08-05 16:29:34,590   INFO  ==> Done (loaded 163/163)\n",
      "2020-08-05 16:29:34,590   INFO  ==> Done (loaded 163/163)\n",
      "2020-08-05 16:29:34,590   INFO  ==> Done (loaded 163/163)\n",
      "2020-08-05 16:29:34,590   INFO  ==> Done (loaded 163/163)\n",
      "2020-08-05 16:29:34,590   INFO  ==> Done (loaded 163/163)\n",
      "2020-08-05 16:29:34,590   INFO  ==> Done (loaded 163/163)\n",
      "2020-08-05 16:29:34,615   INFO  Visualized sample index: \t1\n",
      "2020-08-05 16:29:34,615   INFO  Visualized sample index: \t1\n",
      "2020-08-05 16:29:34,615   INFO  Visualized sample index: \t1\n",
      "2020-08-05 16:29:34,615   INFO  Visualized sample index: \t1\n",
      "2020-08-05 16:29:34,615   INFO  Visualized sample index: \t1\n",
      "2020-08-05 16:29:34,615   INFO  Visualized sample index: \t1\n",
      "2020-08-05 16:29:34,615   INFO  Visualized sample index: \t1\n",
      "2020-08-05 16:29:34,615   INFO  Visualized sample index: \t1\n",
      "2020-08-05 16:29:34,676   INFO  Visualized sample index: \t2\n",
      "2020-08-05 16:29:34,676   INFO  Visualized sample index: \t2\n",
      "2020-08-05 16:29:34,676   INFO  Visualized sample index: \t2\n",
      "2020-08-05 16:29:34,676   INFO  Visualized sample index: \t2\n",
      "2020-08-05 16:29:34,676   INFO  Visualized sample index: \t2\n",
      "2020-08-05 16:29:34,676   INFO  Visualized sample index: \t2\n",
      "2020-08-05 16:29:34,676   INFO  Visualized sample index: \t2\n",
      "2020-08-05 16:29:34,676   INFO  Visualized sample index: \t2\n",
      "2020-08-05 16:29:34,738   INFO  Visualized sample index: \t3\n",
      "2020-08-05 16:29:34,738   INFO  Visualized sample index: \t3\n",
      "2020-08-05 16:29:34,738   INFO  Visualized sample index: \t3\n",
      "2020-08-05 16:29:34,738   INFO  Visualized sample index: \t3\n",
      "2020-08-05 16:29:34,738   INFO  Visualized sample index: \t3\n",
      "2020-08-05 16:29:34,738   INFO  Visualized sample index: \t3\n",
      "2020-08-05 16:29:34,738   INFO  Visualized sample index: \t3\n",
      "2020-08-05 16:29:34,738   INFO  Visualized sample index: \t3\n",
      "2020-08-05 16:29:34,801   INFO  Demo done.\n",
      "2020-08-05 16:29:34,801   INFO  Demo done.\n",
      "2020-08-05 16:29:34,801   INFO  Demo done.\n",
      "2020-08-05 16:29:34,801   INFO  Demo done.\n",
      "2020-08-05 16:29:34,801   INFO  Demo done.\n",
      "2020-08-05 16:29:34,801   INFO  Demo done.\n",
      "2020-08-05 16:29:34,801   INFO  Demo done.\n",
      "2020-08-05 16:29:34,801   INFO  Demo done.\n"
     ]
    },
    {
     "name": "stdout",
     "output_type": "stream",
     "text": [
      "[{'pred_boxes': tensor([[ 4.6138e+01, -4.6407e+00,  9.3130e-03,  1.6946e+00,  4.4398e-01,\n",
      "          1.7678e+00,  6.4895e+00],\n",
      "        [ 2.9531e+01, -7.1291e+00, -6.1918e-01,  3.4374e+00,  1.5580e+00,\n",
      "          1.4106e+00,  6.0744e+00],\n",
      "        [ 5.8811e+01,  1.6704e+01, -8.7981e-01,  3.8522e+00,  1.6228e+00,\n",
      "          1.5095e+00,  3.3363e+00],\n",
      "        [ 4.7970e+01,  2.5869e+01, -4.6201e-01,  1.5563e+00,  3.4861e-01,\n",
      "          1.6139e+00,  6.8675e+00],\n",
      "        [ 1.2720e+01, -8.1863e+00, -4.8355e-01,  3.9285e-01,  5.5719e-01,\n",
      "          1.7558e+00,  4.5747e+00],\n",
      "        [ 5.0739e+01,  2.3595e+01, -4.1340e-01,  4.1684e+00,  1.7023e+00,\n",
      "          1.5655e+00,  3.0532e+00],\n",
      "        [ 2.7422e+01, -1.0683e+01, -3.0245e-01,  3.6374e+00,  1.5771e+00,\n",
      "          1.4566e+00,  6.5398e+00],\n",
      "        [ 3.3381e+01,  2.4682e+01, -8.9336e-01,  1.7767e+00,  4.9178e-01,\n",
      "          1.7044e+00,  3.5992e+00],\n",
      "        [ 2.9004e+01,  2.6117e+01, -1.4427e+00,  3.6977e+00,  1.7056e+00,\n",
      "          1.4859e+00,  1.9075e+00]], device='cuda:0'), 'pred_scores': tensor([0.7259, 0.4656, 0.4292, 0.1458, 0.1432, 0.1246, 0.1176, 0.1135, 0.1035],\n",
      "       device='cuda:0'), 'pred_labels': tensor([3, 1, 1, 3, 2, 1, 1, 3, 1], device='cuda:0')}]\n",
      "dict_keys(['points', 'frame_id', 'calib', 'gt_boxes', 'use_lead_xyz', 'voxels', 'voxel_coords', 'voxel_num_points', 'image_shape', 'batch_size', 'voxel_features', 'encoded_spconv_tensor', 'encoded_spconv_tensor_stride', 'multi_scale_3d_features', 'spatial_features', 'spatial_features_stride', 'spatial_features_2d', 'batch_cls_preds', 'batch_box_preds', 'cls_preds_normalized'])\n",
      "[{'pred_boxes': tensor([[34.9813, -3.2406, -1.3676,  3.9878,  1.7363,  1.5448,  6.2749],\n",
      "        [51.1846, -4.8765, -0.6728,  0.8104,  0.4291,  1.6742,  1.9172],\n",
      "        [38.2826, -4.4992, -0.5866,  0.1906,  0.4163,  1.7408,  1.3993],\n",
      "        [45.4444, -4.5782, -0.2232,  1.5302,  0.3309,  1.6475,  6.4434],\n",
      "        [48.1652,  2.9982, -1.6105,  0.6959,  0.7520,  1.7379,  5.4330],\n",
      "        [23.8035,  3.3908, -0.5511,  0.7646,  0.6105,  1.8655,  3.5971],\n",
      "        [30.1726, -4.3524, -0.3610,  0.5806,  0.6791,  1.7294,  1.3625],\n",
      "        [68.1966, -4.9992,  0.1032,  3.7566,  1.6543,  1.6955,  3.4359],\n",
      "        [59.0817,  2.2210, -1.8112,  0.6136,  0.6955,  1.7748,  4.4166]],\n",
      "       device='cuda:0'), 'pred_scores': tensor([0.8900, 0.3726, 0.2197, 0.2143, 0.2091, 0.1871, 0.1393, 0.1386, 0.1218],\n",
      "       device='cuda:0'), 'pred_labels': tensor([1, 2, 2, 3, 2, 2, 2, 1, 2], device='cuda:0')}]\n",
      "dict_keys(['points', 'frame_id', 'calib', 'gt_boxes', 'use_lead_xyz', 'voxels', 'voxel_coords', 'voxel_num_points', 'image_shape', 'batch_size', 'voxel_features', 'encoded_spconv_tensor', 'encoded_spconv_tensor_stride', 'multi_scale_3d_features', 'spatial_features', 'spatial_features_stride', 'spatial_features_2d', 'batch_cls_preds', 'batch_box_preds', 'cls_preds_normalized'])\n",
      "[{'pred_boxes': tensor([[ 38.4499,  15.7031,  -0.9063,   3.7692,   1.7011,   1.4608,   3.1156],\n",
      "        [ 51.5840,  15.9201,  -0.8220,   3.8331,   1.6007,   1.4393,   3.1067],\n",
      "        [ 58.6575,  19.6187,  -0.3599,   1.8299,   0.5985,   1.7520,   3.3225],\n",
      "        [ 33.0857, -28.4273,  -0.3681,   0.7259,   0.6675,   1.8104,   5.7163],\n",
      "        [ 17.6305, -13.3460,  -0.1972,   0.8061,   0.6008,   1.8643,   3.0827],\n",
      "        [ 43.4791,  30.9913,  -0.6152,   4.2695,   1.6868,   1.5767,   5.1174],\n",
      "        [ 48.1766,  22.6731,  -0.7106,   1.8919,   0.5208,   1.7132,   3.4704],\n",
      "        [ 17.6793, -12.5326,  -0.4277,   0.6042,   0.4929,   1.7065,   0.9882],\n",
      "        [ 38.0470, -10.9097,  -0.6043,   4.1228,   1.6092,   1.5099,   2.6666],\n",
      "        [ 37.7178,  27.1945,  -1.3464,   3.4665,   1.7198,   1.4048,   2.9767],\n",
      "        [ 70.3897,  18.3060,   0.1208,   3.7806,   1.6709,   1.6583,   6.4339],\n",
      "        [ 47.0214, -10.2587,  -0.5924,   1.5295,   0.3279,   1.6574,   5.9087],\n",
      "        [ 20.2293, -12.3564,  -0.8621,   0.6980,   0.5021,   1.5647,   2.5593]],\n",
      "       device='cuda:0'), 'pred_scores': tensor([0.8697, 0.6774, 0.4155, 0.1811, 0.1492, 0.1325, 0.1174, 0.1169, 0.1150,\n",
      "        0.1103, 0.1100, 0.1076, 0.1031], device='cuda:0'), 'pred_labels': tensor([1, 1, 3, 2, 2, 1, 3, 2, 1, 1, 1, 3, 2], device='cuda:0')}]\n",
      "dict_keys(['points', 'frame_id', 'calib', 'gt_boxes', 'use_lead_xyz', 'voxels', 'voxel_coords', 'voxel_num_points', 'image_shape', 'batch_size', 'voxel_features', 'encoded_spconv_tensor', 'encoded_spconv_tensor_stride', 'multi_scale_3d_features', 'spatial_features', 'spatial_features_stride', 'spatial_features_2d', 'batch_cls_preds', 'batch_box_preds', 'cls_preds_normalized'])\n"
     ]
    }
   ],
   "source": [
    "\n",
    "#%%\n",
    "\n",
    "from pcdet.datasets.kitti.kitti_dataset import KittiDataset\n",
    "os.chdir(ABS_PATH_PREFIX)\n",
    "args = Args()\n",
    "\n",
    "cfg_from_yaml_file(args.cfg_file, cfg)\n",
    "\n",
    "# args, cfg = parse_config()\n",
    "\n",
    "print(\"args = \", args)\n",
    "print(\"cfg = \", cfg)\n",
    "\n",
    "logger = common_utils.create_logger()\n",
    "logger.info(\n",
    "    '-----------------Quick Demo of OpenPCDet-------------------------')\n",
    "demo_dataset = KittiDataset(\n",
    "    dataset_cfg=cfg.DATA_CONFIG, class_names=cfg.CLASS_NAMES, training=False,\n",
    "    root_path=Path(args.data_path), logger=logger\n",
    ")\n",
    "logger.info(f'Total number of samples: \\t{len(demo_dataset)}')\n",
    "\n",
    "model = build_network(model_cfg=cfg.MODEL, num_class=len(\n",
    "    cfg.CLASS_NAMES), dataset=demo_dataset)\n",
    "model.load_params_from_file(filename=args.ckpt, logger=logger, to_cpu=True)\n",
    "model.cuda() \n",
    "model.eval()\n",
    "metric = {\n",
    "    'gt_num' : 0,\n",
    "}\n",
    "for cur_thresh in cfg.MODEL.POST_PROCESSING.RECALL_THRESH_LIST:\n",
    "    metric['recall_roi_%s' % str(cur_thresh)] = 0\n",
    "    metric['recall_rcnn_%s' % str(cur_thresh)] = 0\n",
    "        \n",
    "with torch.no_grad():\n",
    "    for idx, data_dict in enumerate(demo_dataset):\n",
    "        if idx == 3:\n",
    "            break\n",
    "        logger.info(f'Visualized sample index: \\t{idx + 1}')\n",
    "        data_dict = demo_dataset.collate_batch([data_dict])\n",
    "        load_data_to_gpu(data_dict)\n",
    "        pred_dicts, ret_dict = model.forward(data_dict)\n",
    "        \n",
    "        disp_dict = {}\n",
    "        eval_utils.statistics_info(cfg, ret_dict, metric, disp_dict)\n",
    "        annos = demo_dataset.generate_prediction_dicts(\n",
    "            data_dict, pred_dicts, demo_dataset.class_names, None\n",
    "        )\n",
    "        # pred_dicts includes:\n",
    "        #     pred_boxes, N x 7\n",
    "        #     pred_scores, N\n",
    "        #     pred_labels\n",
    "        print(pred_dicts)\n",
    "\n",
    "        print(data_dict.keys())\n",
    "\n",
    "#         V.draw_scenes(\n",
    "#             points=data_dict['points'][:,1:], ref_boxes=pred_dicts[0]['pred_boxes'],\n",
    "#             ref_scores=pred_dicts[0]['pred_scores'], ref_labels=pred_dicts[0]['pred_labels']\n",
    "#         )\n",
    "#         mlab.show(stop=True)\n",
    "\n",
    "\n",
    "logger.info('Demo done.')"
   ]
  },
  {
   "cell_type": "code",
   "execution_count": 42,
   "metadata": {},
   "outputs": [
    {
     "data": {
      "text/plain": [
       "array([ 375, 1242], dtype=int32)"
      ]
     },
     "execution_count": 42,
     "metadata": {},
     "output_type": "execute_result"
    }
   ],
   "source": [
    "\n",
    "demo_dataset.get_image_shape('000003')\n"
   ]
  },
  {
   "cell_type": "code",
   "execution_count": 43,
   "metadata": {},
   "outputs": [
    {
     "data": {
      "text/plain": [
       "{'points': array([[ 5.7657e+01,  2.0996e+01,  2.2840e+00,  0.0000e+00],\n",
       "        [ 5.7602e+01,  2.1181e+01,  2.2840e+00,  0.0000e+00],\n",
       "        [ 5.7344e+01,  2.1702e+01,  2.2820e+00,  0.0000e+00],\n",
       "        ...,\n",
       "        [ 6.3940e+00, -4.2000e-02, -1.6710e+00,  1.8000e-01],\n",
       "        [ 6.3900e+00, -2.2000e-02, -1.6700e+00,  2.6000e-01],\n",
       "        [ 6.3900e+00, -2.0000e-03, -1.6700e+00,  2.3000e-01]],\n",
       "       dtype=float32),\n",
       " 'frame_id': '000004',\n",
       " 'calib': <pcdet.utils.calibration_kitti.Calibration at 0x7f8b2e0ae310>,\n",
       " 'gt_boxes': array([[38.549694 , 15.734734 , -0.9212283,  4.01     ,  1.76     ,\n",
       "          1.49     , -3.1407964,  1.       ],\n",
       "        [51.45968  , 15.9170685, -0.9093928,  3.41     ,  1.8      ,\n",
       "          1.38     , -3.1507964,  1.       ]], dtype=float32),\n",
       " 'use_lead_xyz': True,\n",
       " 'voxels': array([[[ 1.7291e+01, -1.3638e+01,  9.5400e-01,  1.5000e-01],\n",
       "         [ 0.0000e+00,  0.0000e+00,  0.0000e+00,  0.0000e+00],\n",
       "         [ 0.0000e+00,  0.0000e+00,  0.0000e+00,  0.0000e+00],\n",
       "         [ 0.0000e+00,  0.0000e+00,  0.0000e+00,  0.0000e+00],\n",
       "         [ 0.0000e+00,  0.0000e+00,  0.0000e+00,  0.0000e+00]],\n",
       " \n",
       "        [[ 1.7338e+01, -1.3587e+01,  9.5400e-01,  4.1000e-01],\n",
       "         [ 0.0000e+00,  0.0000e+00,  0.0000e+00,  0.0000e+00],\n",
       "         [ 0.0000e+00,  0.0000e+00,  0.0000e+00,  0.0000e+00],\n",
       "         [ 0.0000e+00,  0.0000e+00,  0.0000e+00,  0.0000e+00],\n",
       "         [ 0.0000e+00,  0.0000e+00,  0.0000e+00,  0.0000e+00]],\n",
       " \n",
       "        [[ 1.7354e+01, -1.3512e+01,  9.5300e-01,  0.0000e+00],\n",
       "         [ 0.0000e+00,  0.0000e+00,  0.0000e+00,  0.0000e+00],\n",
       "         [ 0.0000e+00,  0.0000e+00,  0.0000e+00,  0.0000e+00],\n",
       "         [ 0.0000e+00,  0.0000e+00,  0.0000e+00,  0.0000e+00],\n",
       "         [ 0.0000e+00,  0.0000e+00,  0.0000e+00,  0.0000e+00]],\n",
       " \n",
       "        ...,\n",
       " \n",
       "        [[ 6.4140e+00, -9.2000e-02, -1.6770e+00,  2.3000e-01],\n",
       "         [ 0.0000e+00,  0.0000e+00,  0.0000e+00,  0.0000e+00],\n",
       "         [ 0.0000e+00,  0.0000e+00,  0.0000e+00,  0.0000e+00],\n",
       "         [ 0.0000e+00,  0.0000e+00,  0.0000e+00,  0.0000e+00],\n",
       "         [ 0.0000e+00,  0.0000e+00,  0.0000e+00,  0.0000e+00]],\n",
       " \n",
       "        [[ 6.3900e+00, -7.2000e-02, -1.6700e+00,  1.2000e-01],\n",
       "         [ 6.3900e+00, -5.2000e-02, -1.6700e+00,  2.0000e-01],\n",
       "         [ 0.0000e+00,  0.0000e+00,  0.0000e+00,  0.0000e+00],\n",
       "         [ 0.0000e+00,  0.0000e+00,  0.0000e+00,  0.0000e+00],\n",
       "         [ 0.0000e+00,  0.0000e+00,  0.0000e+00,  0.0000e+00]],\n",
       " \n",
       "        [[ 6.3940e+00, -4.2000e-02, -1.6710e+00,  1.8000e-01],\n",
       "         [ 6.3900e+00, -2.2000e-02, -1.6700e+00,  2.6000e-01],\n",
       "         [ 6.3900e+00, -2.0000e-03, -1.6700e+00,  2.3000e-01],\n",
       "         [ 0.0000e+00,  0.0000e+00,  0.0000e+00,  0.0000e+00],\n",
       "         [ 0.0000e+00,  0.0000e+00,  0.0000e+00,  0.0000e+00]]],\n",
       "       dtype=float32),\n",
       " 'voxel_coords': array([[ 39, 527, 345],\n",
       "        [ 39, 528, 346],\n",
       "        [ 39, 529, 347],\n",
       "        ...,\n",
       "        [ 13, 798, 128],\n",
       "        [ 13, 798, 127],\n",
       "        [ 13, 799, 127]], dtype=int32),\n",
       " 'voxel_num_points': array([1, 1, 1, ..., 1, 2, 3], dtype=int32),\n",
       " 'image_shape': array([ 375, 1242], dtype=int32)}"
      ]
     },
     "execution_count": 43,
     "metadata": {},
     "output_type": "execute_result"
    }
   ],
   "source": [
    "demo_dataset[2]"
   ]
  },
  {
   "cell_type": "code",
   "execution_count": 39,
   "metadata": {},
   "outputs": [
    {
     "data": {
      "text/plain": [
       "array([[ 7.3751190e+01,  1.1799237e+00, -8.2214653e-01,  3.5599999e+00,\n",
       "         1.6000000e+00,  1.2600000e+00,  1.9203663e-02,  1.0000000e+00]],\n",
       "      dtype=float32)"
      ]
     },
     "execution_count": 39,
     "metadata": {},
     "output_type": "execute_result"
    }
   ],
   "source": [
    "demo_dataset[13]['gt_boxes']"
   ]
  },
  {
   "cell_type": "code",
   "execution_count": 35,
   "metadata": {},
   "outputs": [
    {
     "data": {
      "text/plain": [
       "(1, 8)"
      ]
     },
     "execution_count": 35,
     "metadata": {},
     "output_type": "execute_result"
    }
   ],
   "source": [
    "data_dict['gt_boxes'].shape"
   ]
  },
  {
   "cell_type": "code",
   "execution_count": 30,
   "metadata": {},
   "outputs": [
    {
     "data": {
      "text/plain": [
       "{'pred_boxes': tensor([[ 38.4499,  15.7031,  -0.9063,   3.7692,   1.7011,   1.4608,   3.1156],\n",
       "         [ 51.5840,  15.9201,  -0.8220,   3.8331,   1.6007,   1.4393,   3.1067],\n",
       "         [ 58.6575,  19.6187,  -0.3599,   1.8299,   0.5985,   1.7520,   3.3225],\n",
       "         [ 33.0857, -28.4273,  -0.3681,   0.7259,   0.6675,   1.8104,   5.7163],\n",
       "         [ 17.6305, -13.3460,  -0.1972,   0.8061,   0.6008,   1.8643,   3.0827],\n",
       "         [ 43.4791,  30.9913,  -0.6152,   4.2695,   1.6868,   1.5767,   5.1174],\n",
       "         [ 48.1766,  22.6731,  -0.7106,   1.8919,   0.5208,   1.7132,   3.4704],\n",
       "         [ 17.6793, -12.5326,  -0.4277,   0.6042,   0.4929,   1.7065,   0.9882],\n",
       "         [ 38.0470, -10.9097,  -0.6043,   4.1228,   1.6092,   1.5099,   2.6666],\n",
       "         [ 37.7178,  27.1945,  -1.3464,   3.4665,   1.7198,   1.4048,   2.9767],\n",
       "         [ 70.3897,  18.3060,   0.1208,   3.7806,   1.6709,   1.6583,   6.4339],\n",
       "         [ 47.0214, -10.2587,  -0.5924,   1.5295,   0.3279,   1.6574,   5.9087],\n",
       "         [ 20.2293, -12.3564,  -0.8621,   0.6980,   0.5021,   1.5647,   2.5593]],\n",
       "        device='cuda:0'),\n",
       " 'pred_scores': tensor([0.8697, 0.6774, 0.4155, 0.1811, 0.1492, 0.1325, 0.1174, 0.1169, 0.1150,\n",
       "         0.1103, 0.1100, 0.1076, 0.1031], device='cuda:0'),\n",
       " 'pred_labels': tensor([1, 1, 3, 2, 2, 1, 3, 2, 1, 1, 1, 3, 2], device='cuda:0')}"
      ]
     },
     "execution_count": 30,
     "metadata": {},
     "output_type": "execute_result"
    }
   ],
   "source": [
    "pred_dicts[0]"
   ]
  },
  {
   "cell_type": "code",
   "execution_count": 31,
   "metadata": {},
   "outputs": [
    {
     "data": {
      "text/plain": [
       "{'gt': 2,\n",
       " 'roi_0.3': 0,\n",
       " 'rcnn_0.3': 2,\n",
       " 'roi_0.5': 0,\n",
       " 'rcnn_0.5': 2,\n",
       " 'roi_0.7': 0,\n",
       " 'rcnn_0.7': 2}"
      ]
     },
     "execution_count": 31,
     "metadata": {},
     "output_type": "execute_result"
    }
   ],
   "source": [
    "ret_dict"
   ]
  },
  {
   "cell_type": "code",
   "execution_count": 32,
   "metadata": {},
   "outputs": [
    {
     "data": {
      "text/plain": [
       "[{'name': array(['Car', 'Car', 'Cyclist', 'Pedestrian', 'Pedestrian', 'Car',\n",
       "         'Cyclist', 'Pedestrian', 'Car', 'Car', 'Car', 'Cyclist',\n",
       "         'Pedestrian'], dtype='<U10'),\n",
       "  'truncated': array([0., 0., 0., 0., 0., 0., 0., 0., 0., 0., 0., 0., 0.]),\n",
       "  'occluded': array([0., 0., 0., 0., 0., 0., 0., 0., 0., 0., 0., 0., 0.]),\n",
       "  'alpha': array([-4.2986536, -4.378186 , -4.5705433, -7.9969497, -5.301493 ,\n",
       "         -6.0689316, -4.6013026, -3.175675 , -4.5166264, -3.922865 ,\n",
       "         -7.7502356, -7.694255 , -4.6783867], dtype=float32),\n",
       "  'bbox': array([[ 281.2606  ,  184.89514 ,  344.2302  ,  215.23387 ],\n",
       "         [ 365.70273 ,  182.8096  ,  406.52835 ,  204.63632 ],\n",
       "         [ 362.48904 ,  175.64127 ,  373.58954 ,  197.7507  ],\n",
       "         [1225.715   ,  160.20007 , 1241.      ,  200.62897 ],\n",
       "         [1143.4647  ,  140.16597 , 1193.5139  ,  219.64955 ],\n",
       "         [  44.94606 ,  181.4463  ,  138.16238 ,  209.4764  ],\n",
       "         [ 263.07816 ,  180.56128 ,  275.2236  ,  207.23495 ],\n",
       "         [1116.9899  ,  153.85646 , 1149.0636  ,  226.20212 ],\n",
       "         [ 795.1228  ,  173.87737 ,  842.2711  ,  204.64365 ],\n",
       "         [  41.379547,  195.8245  ,  129.01025 ,  226.70718 ],\n",
       "         [ 410.79385 ,  171.83784 ,  432.64124 ,  189.4045  ],\n",
       "         [ 764.75714 ,  173.9438  ,  773.65564 ,  200.0004  ],\n",
       "         [1048.5095  ,  175.88689 , 1070.6517  ,  233.89455 ]],\n",
       "        dtype=float32),\n",
       "  'dimensions': array([[3.7692437 , 1.4607824 , 1.7010825 ],\n",
       "         [3.833116  , 1.4392773 , 1.6007134 ],\n",
       "         [1.8299191 , 1.7520322 , 0.5984796 ],\n",
       "         [0.72588223, 1.8103509 , 0.66749054],\n",
       "         [0.8060703 , 1.8643209 , 0.60080516],\n",
       "         [4.269522  , 1.576693  , 1.68685   ],\n",
       "         [1.8918805 , 1.7131997 , 0.52078336],\n",
       "         [0.60416335, 1.706456  , 0.49289158],\n",
       "         [4.122788  , 1.5098616 , 1.6091903 ],\n",
       "         [3.4665277 , 1.4047941 , 1.7198118 ],\n",
       "         [3.7806098 , 1.6583189 , 1.6708912 ],\n",
       "         [1.5295111 , 1.6573609 , 0.32790497],\n",
       "         [0.6980247 , 1.564706  , 0.50206035]], dtype=float32),\n",
       "  'location': array([[-15.678751 ,   2.1291208,  38.16052  ],\n",
       "         [-15.893651 ,   2.173545 ,  51.29496  ],\n",
       "         [-19.593573 ,   1.9809052,  58.37172  ],\n",
       "         [ 28.444094 ,   1.2434254,  32.794865 ],\n",
       "         [ 13.358553 ,   1.0973096,  17.343975 ],\n",
       "         [-30.96737  ,   2.1100066,  43.193787 ],\n",
       "         [-22.646769 ,   2.2348921,  47.888317 ],\n",
       "         [ 12.546746 ,   1.2580507,  17.391293 ],\n",
       "         [ 10.92963  ,   1.5662355,  37.75722  ],\n",
       "         [-27.165297 ,   2.6548798,  37.425613 ],\n",
       "         [-18.28372  ,   1.5620928,  70.10858  ],\n",
       "         [ 10.281423 ,   1.7288071,  46.730522 ],\n",
       "         [ 12.37504  ,   1.6500152,  19.937315 ]], dtype=float32),\n",
       "  'rotation_y': array([-4.686385 , -4.6775374, -4.893309 , -7.2871375, -4.6535373,\n",
       "         -6.688188 , -5.041175 , -2.559013 , -4.2373753, -4.5475454,\n",
       "         -8.004665 , -7.479449 , -4.1300507], dtype=float32),\n",
       "  'score': array([0.86966574, 0.67736644, 0.41546875, 0.18111597, 0.1492453 ,\n",
       "         0.13245915, 0.11742867, 0.11688419, 0.11501832, 0.11034924,\n",
       "         0.10999693, 0.10759829, 0.10308172], dtype=float32),\n",
       "  'boxes_lidar': array([[ 38.449905  ,  15.703148  ,  -1.6367223 ,   3.7692437 ,\n",
       "            1.7010825 ,   1.4607824 ,   3.1155887 ],\n",
       "         [ 51.584045  ,  15.920138  ,  -1.5415993 ,   3.833116  ,\n",
       "            1.6007134 ,   1.4392773 ,   3.106741  ],\n",
       "         [ 58.65753   ,  19.618698  ,  -1.2359354 ,   1.8299191 ,\n",
       "            0.5984796 ,   1.7520322 ,   3.3225126 ],\n",
       "         [ 33.08565   , -28.42726   ,  -1.2732934 ,   0.72588223,\n",
       "            0.66749054,   1.8103509 ,   5.716341  ],\n",
       "         [ 17.630533  , -13.346027  ,  -1.1293199 ,   0.8060703 ,\n",
       "            0.60080516,   1.8643209 ,   3.0827408 ],\n",
       "         [ 43.47911   ,  30.991337  ,  -1.4035048 ,   4.269522  ,\n",
       "            1.68685   ,   1.576693  ,   5.1173916 ],\n",
       "         [ 48.176643  ,  22.673105  ,  -1.5672071 ,   1.8918805 ,\n",
       "            0.52078336,   1.7131997 ,   3.4703784 ],\n",
       "         [ 17.679338  , -12.532561  ,  -1.2809732 ,   0.60416335,\n",
       "            0.49289158,   1.706456  ,   0.98821646],\n",
       "         [ 38.046997  , -10.909746  ,  -1.3591912 ,   4.122788  ,\n",
       "            1.6091903 ,   1.5098616 ,   2.6665788 ],\n",
       "         [ 37.717834  ,  27.194515  ,  -2.0487661 ,   3.4665277 ,\n",
       "            1.7198118 ,   1.4047941 ,   2.976749  ],\n",
       "         [ 70.38969   ,  18.305954  ,  -0.70834035,   3.7806098 ,\n",
       "            1.6708912 ,   1.6583189 ,   6.4338694 ],\n",
       "         [ 47.02135   , -10.258741  ,  -1.4211147 ,   1.5295111 ,\n",
       "            0.32790497,   1.6573609 ,   5.9086523 ],\n",
       "         [ 20.229279  , -12.356407  ,  -1.6444714 ,   0.6980247 ,\n",
       "            0.50206035,   1.564706  ,   2.5592542 ]], dtype=float32),\n",
       "  'frame_id': '000004'}]"
      ]
     },
     "execution_count": 32,
     "metadata": {},
     "output_type": "execute_result"
    }
   ],
   "source": [
    "annos"
   ]
  },
  {
   "cell_type": "code",
   "execution_count": null,
   "metadata": {},
   "outputs": [],
   "source": [
    "from mpl_toolkits.mplot3d import Axes3D\n",
    "def visualize_pts(pts, fig=None, bgcolor=(1,1,1), fgcolor=(1.0, 1.0, 1.0),\n",
    "                  show_intensity=True, size=(600, 600), draw_origin=True):\n",
    "    if not isinstance(pts, np.ndarray):\n",
    "        pts = pts.cpu().numpy()\n",
    "    if fig is None:\n",
    "        fig = plt.figure(figsize=(20, 10))\n",
    "        \n",
    "        ax = fig.add_subplot(111, projection='3d')\n",
    "        ax.set_facecolor(bgcolor)\n",
    "\n",
    "    if show_intensity:\n",
    "\n",
    "        ax.scatter(pts[:, 0], pts[:, 1], pts[:, 2], c=pts[:,3], s=0.01, marker=',')\n",
    "    else:\n",
    "        ax.scatter(pts[:, 0], pts[:, 1], pts[:, 2], s=0.01, marker=',')\n",
    "        \n",
    "    if draw_origin:\n",
    "        ax.plot([0,3], [0,0], [0,0], color=(0,0,1))\n",
    "        ax.plot([0,0], [0,3], [0,0], color=(0,1,0))\n",
    "        ax.plot([0,0], [0,0], [0,3], color=(1,0,0))\n",
    "    \n",
    "    return ax\n",
    "\n",
    "    # if draw_origin:"
   ]
  },
  {
   "cell_type": "code",
   "execution_count": null,
   "metadata": {},
   "outputs": [],
   "source": [
    "fig = plt.figure()\n",
    "points = data_dict['points']\n",
    "\n",
    "plt.plot(points[:,2])\n",
    "fig = plt.figure()\n",
    "plt.plot(points[:,1])\n",
    "fig = plt.figure()\n",
    "plt.plot(points[:,0])"
   ]
  },
  {
   "cell_type": "code",
   "execution_count": 131,
   "metadata": {},
   "outputs": [
    {
     "data": {
      "application/vnd.jupyter.widget-view+json": {
       "model_id": "6a197764ccba47eb968e8f794f5ef9e6",
       "version_major": 2,
       "version_minor": 0
      },
      "text/plain": [
       "Canvas(toolbar=Toolbar(toolitems=[('Home', 'Reset original view', 'home', 'home'), ('Back', 'Back to previous …"
      ]
     },
     "metadata": {},
     "output_type": "display_data"
    }
   ],
   "source": [
    "ax = visualize_pts(points)"
   ]
  },
  {
   "cell_type": "code",
   "execution_count": 132,
   "metadata": {},
   "outputs": [],
   "source": [
    "def draw_grid(x1, y1, x2, y2, ax, color=(1,0.5,0.5)):\n",
    "    ax.plot([x1, x1], [y1, y2], [0, 0], color=color, linewidth=1)\n",
    "    ax.plot([x2, x2], [y1, y2], [0, 0], color=color, linewidth=1)\n",
    "    ax.plot([x1, x2], [y1, y1], [0, 0], color=color, linewidth=1)\n",
    "    ax.plot([x1, x2], [y2, y2], [0, 0], color=color, linewidth=1)\n",
    "    return ax\n",
    "\n",
    "def draw_multi_grid_range(ax, grid_size=20, bv_range=(-60, -60, 60, 60)):\n",
    "    for x in range(bv_range[0], bv_range[2], grid_size):\n",
    "        for y in range(bv_range[1], bv_range[3], grid_size):\n",
    "            ax = draw_grid(x, y, x + grid_size, y+grid_size, ax) \n",
    "    return ax"
   ]
  },
  {
   "cell_type": "code",
   "execution_count": 133,
   "metadata": {},
   "outputs": [
    {
     "data": {
      "text/plain": [
       "<Axes3DSubplot:>"
      ]
     },
     "execution_count": 133,
     "metadata": {},
     "output_type": "execute_result"
    }
   ],
   "source": [
    "draw_multi_grid_range(ax, bv_range=(0, -40, 80, 40))"
   ]
  },
  {
   "cell_type": "code",
   "execution_count": 134,
   "metadata": {},
   "outputs": [],
   "source": [
    "def check_numpy_to_torch(x):\n",
    "    if isinstance(x, np.ndarray):\n",
    "        return torch.from_numpy(x).float(), True\n",
    "    return x, False\n",
    "\n",
    "\n",
    "def rotate_points_along_z(points, angle):\n",
    "    \"\"\"\n",
    "    Args:\n",
    "        points: (B, N, 3 + C)\n",
    "        angle: (B), angle along z-axis, angle increases x ==> y\n",
    "    Returns:\n",
    "\n",
    "    \"\"\"\n",
    "    points, is_numpy = check_numpy_to_torch(points)\n",
    "    angle, _ = check_numpy_to_torch(angle)\n",
    "\n",
    "    cosa = torch.cos(angle)\n",
    "    sina = torch.sin(angle)\n",
    "    zeros = angle.new_zeros(points.shape[0])\n",
    "    ones = angle.new_ones(points.shape[0])\n",
    "    rot_matrix = torch.stack((\n",
    "        cosa,  sina, zeros,\n",
    "        -sina, cosa, zeros,\n",
    "        zeros, zeros, ones\n",
    "    ), dim=1).view(-1, 3, 3).float()\n",
    "    points_rot = torch.matmul(points[:, :, 0:3], rot_matrix)\n",
    "    points_rot = torch.cat((points_rot, points[:, :, 3:]), dim=-1)\n",
    "    return points_rot.numpy() if is_numpy else points_rot\n",
    "\n",
    "\n",
    "def boxes_to_corners_3d(boxes3d):\n",
    "    \"\"\"\n",
    "        7 -------- 4\n",
    "       /|         /|\n",
    "      6 -------- 5 .\n",
    "      | |        | |\n",
    "      . 3 -------- 0\n",
    "      |/         |/\n",
    "      2 -------- 1\n",
    "    Args:\n",
    "        boxes3d:  (N, 7) [x, y, z, dx, dy, dz, heading], (x, y, z) is the box center\n",
    "\n",
    "    Returns:\n",
    "    \"\"\"\n",
    "    boxes3d, is_numpy = check_numpy_to_torch(boxes3d)\n",
    "\n",
    "    template = boxes3d.new_tensor((\n",
    "        [1, 1, -1], [1, -1, -1], [-1, -1, -1], [-1, 1, -1],\n",
    "        [1, 1, 1], [1, -1, 1], [-1, -1, 1], [-1, 1, 1],\n",
    "    )) / 2\n",
    "\n",
    "    corners3d = boxes3d[:, None, 3:6].repeat(1, 8, 1) * template[None, :, :]\n",
    "    corners3d = rotate_points_along_z(corners3d.view(-1, 8, 3), boxes3d[:, 6]).view(-1, 8, 3)\n",
    "    corners3d += boxes3d[:, None, 0:3]\n",
    "\n",
    "    return corners3d.numpy() if is_numpy else corners3d"
   ]
  },
  {
   "cell_type": "code",
   "execution_count": 135,
   "metadata": {},
   "outputs": [],
   "source": [
    "\n",
    "def draw_corners3d(corners3d, ax, color=(1, 1, 1), line_width=1, cls=None, tag='', max_num=500, tube_radius=None):\n",
    "    \"\"\"\n",
    "    :param corners3d: (N, 8, 3)\n",
    "    :param fig:\n",
    "    :param color:\n",
    "    :param line_width:\n",
    "    :param cls:\n",
    "    :param tag:\n",
    "    :param max_num:\n",
    "    :return:\n",
    "    \"\"\"\n",
    "    num = min(max_num, len(corners3d))\n",
    "    for n in range(num):\n",
    "        b = corners3d[n]  # (8, 3)\n",
    "\n",
    "        if cls is not None:\n",
    "            if isinstance(cls, np.ndarray):\n",
    "                ax.text(b[6, 0], b[6, 1], b[6, 2], '%.2f' % cls[n], fontsize=0.3, color=color)\n",
    "            else:\n",
    "                ax.text(b[6, 0], b[6, 1], b[6, 2], '%s' % cls[n], fontsize=0.3, color=color)\n",
    "\n",
    "        for k in range(0, 4):\n",
    "            i, j = k, (k + 1) % 4\n",
    "            ax.plot([b[i, 0], b[j, 0]], [b[i, 1], b[j, 1]], [b[i, 2], b[j, 2]], color=color,\n",
    "                        linewidth=line_width)\n",
    "\n",
    "            i, j = k + 4, (k + 1) % 4 + 4\n",
    "            ax.plot([b[i, 0], b[j, 0]], [b[i, 1], b[j, 1]], [b[i, 2], b[j, 2]], color=color,\n",
    "                        linewidth=line_width)\n",
    "\n",
    "            i, j = k, k + 4\n",
    "            ax.plot([b[i, 0], b[j, 0]], [b[i, 1], b[j, 1]], [b[i, 2], b[j, 2]], color=color,\n",
    "                        linewidth=line_width)\n",
    "\n",
    "        i, j = 0, 5\n",
    "        ax.plot([b[i, 0], b[j, 0]], [b[i, 1], b[j, 1]], [b[i, 2], b[j, 2]], color=color,\n",
    "                    linewidth=line_width)\n",
    "        i, j = 1, 4\n",
    "        ax.plot([b[i, 0], b[j, 0]], [b[i, 1], b[j, 1]], [b[i, 2], b[j, 2]], color=color,\n",
    "                    linewidth=line_width)\n",
    "\n",
    "    return ax\n",
    "\n"
   ]
  },
  {
   "cell_type": "code",
   "execution_count": 136,
   "metadata": {},
   "outputs": [],
   "source": [
    "ref_boxes=pred_dicts[0]['pred_boxes'].cpu().numpy()\n",
    "ref_scores=pred_dicts[0]['pred_scores'].cpu().numpy()\n",
    "ref_labels=pred_dicts[0]['pred_labels'].cpu().numpy()\n",
    "\n",
    "ref_corners3d = boxes_to_corners_3d(ref_boxes)\n",
    "ax = draw_corners3d(ref_corners3d, ax, color=(0,1,0), cls=ref_scores, max_num=100)\n",
    "\n",
    "box_colormap = [\n",
    "    [1, 1, 1],\n",
    "    [0, 1, 0],\n",
    "    [0, 1, 1],\n",
    "    [1, 1, 0],\n",
    "]\n",
    "\n",
    "gt_boxes = data_dict['gt_boxes']\n",
    "if gt_boxes is not None:\n",
    "    corners3d = boxes_to_corners_3d(gt_boxes)\n",
    "    ax = draw_corners3d(corners3d, ax, color=(0, 0, 1), max_num=100)\n",
    "\n",
    "    if ref_boxes is not None:\n",
    "        ref_corners3d = boxes_to_corners_3d(ref_boxes)\n",
    "        if ref_labels is None:\n",
    "            ax = draw_corners3d(ref_corners3d, ax, color=(0, 1, 0), cls=ref_scores, max_num=100)\n",
    "        else:\n",
    "            for k in range(ref_labels.min(), ref_labels.max() + 1):\n",
    "                cur_color = tuple(box_colormap[k % len(box_colormap)])\n",
    "                mask = (ref_labels == k)\n",
    "                ax = draw_corners3d(ref_corners3d[mask], ax, color=cur_color, cls=ref_scores[mask], max_num=100)"
   ]
  },
  {
   "cell_type": "code",
   "execution_count": 137,
   "metadata": {},
   "outputs": [
    {
     "data": {
      "text/plain": [
       "dict_keys(['points', 'frame_id', 'gt_boxes', 'use_lead_xyz', 'voxels', 'voxel_coords', 'voxel_num_points', 'image_shape'])"
      ]
     },
     "execution_count": 137,
     "metadata": {},
     "output_type": "execute_result"
    }
   ],
   "source": [
    "data_dict.keys()"
   ]
  },
  {
   "cell_type": "code",
   "execution_count": null,
   "metadata": {},
   "outputs": [],
   "source": []
  },
  {
   "cell_type": "code",
   "execution_count": null,
   "metadata": {},
   "outputs": [],
   "source": []
  }
 ],
 "metadata": {
  "kernelspec": {
   "display_name": "Python 3.7.7 64-bit ('sphconv': conda)",
   "language": "python",
   "name": "python37764bitsphconvconda6f56c650dde3466280cb82ecbfed5d7d"
  },
  "language_info": {
   "codemirror_mode": {
    "name": "ipython",
    "version": 3
   },
   "file_extension": ".py",
   "mimetype": "text/x-python",
   "name": "python",
   "nbconvert_exporter": "python",
   "pygments_lexer": "ipython3",
   "version": "3.7.7"
  }
 },
 "nbformat": 4,
 "nbformat_minor": 2
}
