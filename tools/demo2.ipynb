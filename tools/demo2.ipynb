{
 "cells": [
  {
   "cell_type": "code",
   "execution_count": 1,
   "metadata": {},
   "outputs": [],
   "source": [
    "# %%\n",
    "import os\n",
    "from os import path\n",
    "from pcdet.utils import common_utils\n",
    "from pcdet.models import build_network, load_data_to_gpu\n",
    "from pcdet.datasets import DatasetTemplate\n",
    "from pcdet.config import cfg, cfg_from_yaml_file\n",
    "import torch\n",
    "import numpy as np\n",
    "import argparse\n",
    "import glob\n",
    "from pathlib import Path\n",
    "\n",
    "# from tools.visual_utils import visualize_utils as V\n",
    "ABS_PATH_PREFIX = os.getcwd()\n",
    "\n",
    "\n",
    "# %matplotlib inline\n",
    "# %matplotlib notebook\n",
    "%matplotlib widget\n",
    "import matplotlib.pyplot as plt"
   ]
  },
  {
   "cell_type": "code",
   "execution_count": null,
   "metadata": {},
   "outputs": [],
   "source": []
  },
  {
   "cell_type": "code",
   "execution_count": 2,
   "metadata": {},
   "outputs": [],
   "source": [
    "#%%\n",
    "class Args:\n",
    "    def __init__(self):\n",
    "        self.cfg_file = path.join(\n",
    "            ABS_PATH_PREFIX,  'cfgs/kitti_models/second.yaml')\n",
    "        self.data_path = path.join(\n",
    "            ABS_PATH_PREFIX, '../data/kitti/')\n",
    "        self.ckpt = path.join(ABS_PATH_PREFIX,\n",
    "                              '../output/kitti_models/second/def/ckpt/checkpoint_epoch_50.pth')\n",
    "        self.ext = '.bin'\n",
    "        print(\"cfg _file  = \", self.cfg_file)\n"
   ]
  },
  {
   "cell_type": "code",
   "execution_count": 3,
   "metadata": {
    "tags": []
   },
   "outputs": [
    {
     "name": "stderr",
     "output_type": "stream",
     "text": [
      "2020-08-04 19:00:18,918   INFO  -----------------Quick Demo of OpenPCDet-------------------------\n",
      "2020-08-04 19:00:19,081   INFO  Database filter by min points Car: 14357 => 13532\n",
      "2020-08-04 19:00:19,082   INFO  Database filter by min points Pedestrian: 2207 => 2168\n",
      "2020-08-04 19:00:19,083   INFO  Database filter by min points Cyclist: 734 => 705\n",
      "2020-08-04 19:00:19,103   INFO  Database filter by difficulty Car: 13532 => 10759\n",
      "2020-08-04 19:00:19,107   INFO  Database filter by difficulty Pedestrian: 2168 => 2075\n",
      "2020-08-04 19:00:19,109   INFO  Database filter by difficulty Cyclist: 705 => 581\n"
     ]
    },
    {
     "name": "stdout",
     "output_type": "stream",
     "text": [
      "cfg _file  =  /home/gx/GitHub/OpenPCDet/tools/cfgs/kitti_models/second.yaml\n",
      "args =  <__main__.Args object at 0x7f18618a9e50>\n",
      "cfg =  {'ROOT_DIR': PosixPath('/home/gx/GitHub/OpenPCDet'), 'LOCAL_RANK': 0, 'CLASS_NAMES': ['Car', 'Pedestrian', 'Cyclist'], 'DATA_CONFIG': {'DATASET': 'KittiDataset', 'DATA_PATH': '../data/kitti', 'POINT_CLOUD_RANGE': [0, -40, -3, 70.4, 40, 1], 'DATA_SPLIT': {'train': 'train', 'test': 'val'}, 'INFO_PATH': {'train': ['kitti_infos_train.pkl'], 'test': ['kitti_infos_val.pkl']}, 'FOV_POINTS_ONLY': True, 'DATA_AUGMENTOR': {'DISABLE_AUG_LIST': ['placeholder'], 'AUG_CONFIG_LIST': [{'NAME': 'gt_sampling', 'USE_ROAD_PLANE': False, 'DB_INFO_PATH': ['kitti_dbinfos_train.pkl'], 'PREPARE': {'filter_by_min_points': ['Car:5', 'Pedestrian:5', 'Cyclist:5'], 'filter_by_difficulty': [-1]}, 'SAMPLE_GROUPS': ['Car:20', 'Pedestrian:15', 'Cyclist:15'], 'NUM_POINT_FEATURES': 4, 'DATABASE_WITH_FAKELIDAR': False, 'REMOVE_EXTRA_WIDTH': [0.0, 0.0, 0.0], 'LIMIT_WHOLE_SCENE': True}, {'NAME': 'random_world_flip', 'ALONG_AXIS_LIST': ['x']}, {'NAME': 'random_world_rotation', 'WORLD_ROT_ANGLE': [-0.78539816, 0.78539816]}, {'NAME': 'random_world_scaling', 'WORLD_SCALE_RANGE': [0.95, 1.05]}]}, 'POINT_FEATURE_ENCODING': {'encoding_type': 'absolute_coordinates_encoding', 'used_feature_list': ['x', 'y', 'z', 'intensity'], 'src_feature_list': ['x', 'y', 'z', 'intensity']}, 'DATA_PROCESSOR': [{'NAME': 'mask_points_and_boxes_outside_range', 'REMOVE_OUTSIDE_BOXES': True}, {'NAME': 'shuffle_points', 'SHUFFLE_ENABLED': {'train': False, 'test': False}}, {'NAME': 'transform_points_to_voxels', 'VOXEL_SIZE': [0.1375, 0.15625, 0.1], 'MAX_POINTS_PER_VOXEL': 5, 'MAX_NUMBER_OF_VOXELS': {'train': 16000, 'test': 40000}}], '_BASE_CONFIG_': 'cfgs/dataset_configs/kitti_dataset.yaml'}, 'MODEL': {'NAME': 'SECONDNet', 'VFE': {'NAME': 'MeanVFE'}, 'BACKBONE_3D': {'NAME': 'VoxelBackBone8x'}, 'MAP_TO_BEV': {'NAME': 'HeightCompression', 'NUM_BEV_FEATURES': 256}, 'BACKBONE_2D': {'NAME': 'BaseBEVBackbone', 'LAYER_NUMS': [5, 5], 'LAYER_STRIDES': [1, 2], 'NUM_FILTERS': [128, 256], 'UPSAMPLE_STRIDES': [1, 2], 'NUM_UPSAMPLE_FILTERS': [256, 256]}, 'DENSE_HEAD': {'NAME': 'AnchorHeadSingle', 'CLASS_AGNOSTIC': False, 'USE_DIRECTION_CLASSIFIER': True, 'DIR_OFFSET': 0.78539, 'DIR_LIMIT_OFFSET': 0.0, 'NUM_DIR_BINS': 2, 'ANCHOR_GENERATOR_CONFIG': [{'class_name': 'Car', 'anchor_sizes': [[3.9, 1.6, 1.56]], 'anchor_rotations': [0, 1.57], 'anchor_bottom_heights': [-1.78], 'align_center': False, 'feature_map_stride': 8, 'matched_threshold': 0.6, 'unmatched_threshold': 0.45}, {'class_name': 'Pedestrian', 'anchor_sizes': [[0.8, 0.6, 1.73]], 'anchor_rotations': [0, 1.57], 'anchor_bottom_heights': [-0.6], 'align_center': False, 'feature_map_stride': 8, 'matched_threshold': 0.5, 'unmatched_threshold': 0.35}, {'class_name': 'Cyclist', 'anchor_sizes': [[1.76, 0.6, 1.73]], 'anchor_rotations': [0, 1.57], 'anchor_bottom_heights': [-0.6], 'align_center': False, 'feature_map_stride': 8, 'matched_threshold': 0.5, 'unmatched_threshold': 0.35}], 'TARGET_ASSIGNER_CONFIG': {'NAME': 'AxisAlignedTargetAssigner', 'POS_FRACTION': -1.0, 'SAMPLE_SIZE': 512, 'NORM_BY_NUM_EXAMPLES': False, 'MATCH_HEIGHT': False, 'BOX_CODER': 'ResidualCoder'}, 'LOSS_CONFIG': {'LOSS_WEIGHTS': {'cls_weight': 1.0, 'loc_weight': 2.0, 'dir_weight': 0.2, 'code_weights': [1.0, 1.0, 1.0, 1.0, 1.0, 1.0, 1.0]}}}, 'POST_PROCESSING': {'RECALL_THRESH_LIST': [0.3, 0.5, 0.7], 'SCORE_THRESH': 0.1, 'OUTPUT_RAW_SCORE': False, 'EVAL_METRIC': 'kitti', 'NMS_CONFIG': {'MULTI_CLASSES_NMS': False, 'NMS_TYPE': 'nms_gpu', 'NMS_THRESH': 0.01, 'NMS_PRE_MAXSIZE': 4096, 'NMS_POST_MAXSIZE': 500}}}, 'OPTIMIZATION': {'BATCH_SIZE_PER_GPU': 4, 'NUM_EPOCHS': 80, 'OPTIMIZER': 'adam_onecycle', 'LR': 0.003, 'WEIGHT_DECAY': 0.01, 'MOMENTUM': 0.9, 'MOMS': [0.95, 0.85], 'PCT_START': 0.4, 'DIV_FACTOR': 10, 'DECAY_STEP_LIST': [35, 45], 'LR_DECAY': 0.1, 'LR_CLIP': 1e-07, 'LR_WARMUP': False, 'WARMUP_EPOCH': 1, 'GRAD_NORM_CLIP': 10}}\n"
     ]
    },
    {
     "name": "stderr",
     "output_type": "stream",
     "text": [
      "2020-08-04 19:00:19,129   INFO  Loading KITTI dataset\n",
      "2020-08-04 19:00:19,250   INFO  Total samples for KITTI dataset: 3712\n",
      "2020-08-04 19:00:19,251   INFO  Total number of samples: \t3712\n"
     ]
    },
    {
     "name": "stdout",
     "output_type": "stream",
     "text": [
      "self.exp =  [False, False, False]\n",
      "feature_map_size = [array([64, 64]), array([64, 64]), array([64, 64])]\n"
     ]
    },
    {
     "name": "stderr",
     "output_type": "stream",
     "text": [
      "2020-08-04 19:00:22,178   INFO  ==> Loading parameters from checkpoint /home/gx/GitHub/OpenPCDet/tools/../output/kitti_models/second/def/ckpt/checkpoint_epoch_50.pth to CPU\n",
      "2020-08-04 19:00:22,221   INFO  ==> Checkpoint trained from version: pcdet+0.2.0+b492d11\n",
      "2020-08-04 19:00:22,361   INFO  ==> Done (loaded 163/163)\n",
      "2020-08-04 19:00:22,416   INFO  Visualized sample index: \t1\n"
     ]
    },
    {
     "name": "stdout",
     "output_type": "stream",
     "text": [
      "points fater collate =  [0. 0. 0. ... 0. 0. 0.]\n"
     ]
    },
    {
     "name": "stderr",
     "output_type": "stream",
     "text": [
      "2020-08-04 19:00:22,796   INFO  Demo done.\n"
     ]
    },
    {
     "name": "stdout",
     "output_type": "stream",
     "text": [
      "[{'pred_boxes': tensor([[ 13.3165,  -5.5622,  -0.7407,   0.5050,   0.6311,   1.7220,   4.3537],\n",
      "        [ 16.5955,  -0.7094,  -0.7130,   0.4931,   0.6480,   1.7849,   1.4360],\n",
      "        [ 24.4222,  -8.3229,  -0.7994,   1.9388,   0.7536,   1.7211,   5.8068],\n",
      "        [ 21.1515, -21.0523,  -0.7534,   0.5175,   0.5611,   1.6353,   2.2567],\n",
      "        [ 38.1272, -10.7166,  -0.7235,   2.0843,   0.6283,   1.7151,   5.9935],\n",
      "        [ 19.0421, -13.2067,  -0.7540,   0.4682,   0.4753,   1.6455,   1.0554],\n",
      "        [ 12.1582,  -8.1080,  -0.8829,   0.5156,   0.6172,   1.6193,   3.7517],\n",
      "        [ 13.3426, -14.7467,  -0.7520,   0.5611,   0.5365,   1.6390,   1.7077],\n",
      "        [  9.0498, -14.5398,  -0.7732,   0.8596,   0.4614,   1.7120,   3.6718],\n",
      "        [ 13.3157,  -4.6542,  -0.7238,   0.5105,   0.6317,   1.6957,   4.3880],\n",
      "        [ 21.2894,  -2.0369,  -0.7792,   1.7948,   0.7333,   1.7474,   4.3251],\n",
      "        [ 27.9227,  -5.8353,  -0.7691,   0.2512,   0.4454,   1.7682,   1.6847],\n",
      "        [ 30.0848, -27.2521,  -0.7334,   0.3158,   0.4818,   1.7207,   1.4941],\n",
      "        [ 26.9292, -13.4152,  -0.5070,   0.8723,   0.5038,   1.7446,   4.8806],\n",
      "        [  6.8219,  -9.5981,  -0.5530,   0.4266,   0.6230,   1.8203,   1.3276],\n",
      "        [  9.9116, -14.5003,  -0.7316,   0.8615,   0.4507,   1.7049,   3.6737],\n",
      "        [ 16.7511, -19.5585,  -0.5100,   0.8222,   0.5854,   1.8592,   1.0196],\n",
      "        [ 15.8351,  -0.7100,  -0.6790,   0.5298,   0.6142,   1.7748,   1.5641],\n",
      "        [ 35.7382,  -6.9236,  -0.7539,   0.3574,   0.5052,   1.7811,   4.6320],\n",
      "        [  7.7508,  -9.5749,  -0.4919,   0.3703,   0.6824,   1.8289,   1.3513],\n",
      "        [ 13.3461, -15.6944,  -0.7553,   0.5499,   0.5347,   1.6263,   1.6941],\n",
      "        [ 22.5092, -19.6628,  -0.7683,   1.8252,   0.5112,   1.6885,   5.5786],\n",
      "        [ 12.1829,  -7.1606,  -0.9146,   0.5306,   0.5700,   1.5736,   3.6548],\n",
      "        [ 16.7762, -18.5564,  -0.5454,   0.9550,   0.5576,   1.8762,   1.0387],\n",
      "        [ 39.2653, -18.4651,  -0.3233,   0.7193,   0.5353,   1.7765,   3.8067],\n",
      "        [ 17.8780,   1.8083,  -1.0285,   0.8313,   0.5810,   1.6880,   2.7172],\n",
      "        [ 22.5097, -18.5259,  -0.8718,   1.8274,   0.5842,   1.7017,   5.5675],\n",
      "        [ 26.6872, -23.6088,  -0.5943,   0.3616,   0.4435,   1.7137,   1.1785],\n",
      "        [ 19.0393, -12.2624,  -0.7249,   0.4915,   0.4748,   1.6423,   1.0964],\n",
      "        [ 27.9146,  -6.7962,  -0.7379,   0.2966,   0.4766,   1.7260,   1.7102],\n",
      "        [ 17.8955,   0.7769,  -1.0915,   0.6891,   0.4553,   1.5133,   2.5738],\n",
      "        [ 35.7255,  -5.8972,  -0.7679,   0.3913,   0.5464,   1.8378,   1.2741],\n",
      "        [ 20.3065, -21.0398,  -0.7242,   0.5240,   0.5730,   1.6696,   2.2976],\n",
      "        [ 31.0212,   8.1743,  -1.0393,   3.5775,   1.5803,   1.4982,   2.4996],\n",
      "        [ 38.0340,  -9.6316,  -0.7707,   2.1573,   0.6552,   1.6752,   5.9543],\n",
      "        [ 26.9247, -14.4170,  -0.5444,   0.8474,   0.5533,   1.7606,   4.7378],\n",
      "        [ 23.5417,  -3.2110,  -0.8921,   2.4372,   1.4432,   1.5710,   5.7950],\n",
      "        [ 40.0653, -18.4582,  -0.3135,   0.7284,   0.5545,   1.7782,   3.8466],\n",
      "        [ 69.3704, -38.8141,  -0.1600,   3.7727,   1.6456,   1.5962,   5.8493],\n",
      "        [ 11.1591,  -1.8450,  -0.7693,   0.5962,   0.7075,   1.7483,   4.2082],\n",
      "        [ 14.4151, -20.9327,  -0.5020,   0.7041,   0.5305,   1.7922,   2.9916],\n",
      "        [ 11.3371,  -7.1639,  -0.9273,   0.5818,   0.5542,   1.5298,   3.4367],\n",
      "        [ 34.5429,  -3.2688,  -0.7198,   1.9129,   0.6811,   1.7427,   4.0760],\n",
      "        [ 11.3617,  -8.1148,  -0.9001,   0.5549,   0.5798,   1.6149,   3.6155],\n",
      "        [ 26.6941, -24.5789,  -0.5459,   0.4329,   0.4726,   1.6840,   4.2404],\n",
      "        [  9.9638, -13.5159,  -0.7288,   0.8602,   0.4589,   1.7126,   0.9002],\n",
      "        [  8.8047,  -9.5543,  -0.4876,   0.3894,   0.6023,   1.8328,   1.4430],\n",
      "        [ 43.6278, -10.9465,  -0.1820,   0.3877,   0.4830,   1.8501,   4.3682],\n",
      "        [ 39.8506,  -4.5080,  -0.6043,   2.9574,   1.5403,   1.4245,   5.9732],\n",
      "        [ 21.1405, -22.0126,  -0.7500,   0.5210,   0.5379,   1.5765,   2.2714],\n",
      "        [ 29.2260, -27.2849,  -0.7696,   0.6591,   0.5753,   1.6743,   1.9529],\n",
      "        [ 52.3996,  -9.5507,  -0.4577,   3.6678,   1.5985,   1.5141,   6.1336],\n",
      "        [ 40.9233,  -9.5302,  -0.7657,   2.9626,   1.4827,   1.4877,   6.4198],\n",
      "        [  4.3509,  -8.3172,  -0.8273,   1.7643,   0.5484,   1.5761,   1.7435],\n",
      "        [ 27.7420, -13.4336,  -0.5104,   0.7627,   0.5539,   1.7300,   4.6453],\n",
      "        [ 12.5194,  -5.5973,  -0.8227,   0.5405,   0.6235,   1.6584,   4.1735],\n",
      "        [ 22.1710,  -2.0121,  -0.7673,   1.9511,   0.7401,   1.7214,   4.4223],\n",
      "        [ 25.6512, -26.1199,  -0.5568,   0.4524,   0.4626,   1.6465,   0.8740],\n",
      "        [ 16.6447,  -1.7133,  -0.6453,   0.5041,   0.6114,   1.7691,   1.4282],\n",
      "        [ 29.4983,   7.0717,  -1.0734,   3.4550,   1.5557,   1.4858,   2.6226],\n",
      "        [ 33.6389,  -3.3069,  -0.7557,   1.9202,   0.6713,   1.7419,   0.9630],\n",
      "        [  6.6747, -13.3361,  -0.6802,   0.7668,   0.5290,   1.7782,   6.7827],\n",
      "        [  6.7958, -10.5907,  -0.5642,   0.4996,   0.5551,   1.7832,   1.3081],\n",
      "        [ 50.2644, -14.1618,  -0.3855,   4.1312,   1.6873,   1.6021,   4.8640],\n",
      "        [ 43.5934, -11.9034,  -0.1820,   0.3867,   0.4967,   1.8296,   4.4266],\n",
      "        [ 31.4386,   4.4803,  -1.1543,   1.7865,   0.6664,   1.7635,   6.0207],\n",
      "        [ 11.1987,  -0.7537,  -0.6345,   1.7520,   0.5003,   1.8004,   5.8691]],\n",
      "       device='cuda:0'), 'pred_scores': tensor([0.7211, 0.5396, 0.5220, 0.4867, 0.4529, 0.4233, 0.4133, 0.4035, 0.3876,\n",
      "        0.3826, 0.3702, 0.3635, 0.3547, 0.3532, 0.3406, 0.3405, 0.3242, 0.3016,\n",
      "        0.2901, 0.2828, 0.2722, 0.2545, 0.2465, 0.2451, 0.2331, 0.2219, 0.2117,\n",
      "        0.2093, 0.2076, 0.2062, 0.2002, 0.1989, 0.1867, 0.1849, 0.1838, 0.1837,\n",
      "        0.1779, 0.1775, 0.1737, 0.1662, 0.1577, 0.1531, 0.1526, 0.1520, 0.1498,\n",
      "        0.1409, 0.1400, 0.1379, 0.1332, 0.1328, 0.1273, 0.1223, 0.1222, 0.1196,\n",
      "        0.1194, 0.1169, 0.1166, 0.1146, 0.1139, 0.1121, 0.1118, 0.1108, 0.1082,\n",
      "        0.1082, 0.1056, 0.1030, 0.1014], device='cuda:0'), 'pred_labels': tensor([2, 2, 3, 2, 3, 2, 2, 2, 2, 2, 3, 2, 2, 2, 2, 2, 2, 2, 2, 2, 2, 3, 2, 2,\n",
      "        2, 2, 3, 2, 2, 2, 2, 2, 2, 1, 3, 2, 1, 2, 1, 2, 2, 2, 3, 2, 2, 2, 2, 2,\n",
      "        1, 2, 2, 1, 1, 3, 2, 2, 3, 2, 2, 1, 3, 2, 2, 1, 2, 3, 3],\n",
      "       device='cuda:0')}]\n",
      "dict_keys(['points', 'frame_id', 'gt_boxes', 'use_lead_xyz', 'voxels', 'voxel_coords', 'voxel_num_points', 'image_shape', 'batch_size', 'voxel_features', 'encoded_spconv_tensor', 'encoded_spconv_tensor_stride', 'multi_scale_3d_features', 'spatial_features', 'spatial_features_stride', 'spatial_features_2d', 'batch_cls_preds', 'batch_box_preds', 'cls_preds_normalized'])\n"
     ]
    }
   ],
   "source": [
    "\n",
    "#%%\n",
    "\n",
    "from pcdet.datasets.kitti.kitti_dataset import KittiDataset\n",
    "os.chdir(ABS_PATH_PREFIX)\n",
    "args = Args()\n",
    "\n",
    "cfg_from_yaml_file(args.cfg_file, cfg)\n",
    "\n",
    "# args, cfg = parse_config()\n",
    "\n",
    "print(\"args = \", args)\n",
    "print(\"cfg = \", cfg)\n",
    "\n",
    "logger = common_utils.create_logger()\n",
    "logger.info(\n",
    "    '-----------------Quick Demo of OpenPCDet-------------------------')\n",
    "demo_dataset = KittiDataset(\n",
    "    dataset_cfg=cfg.DATA_CONFIG, class_names=cfg.CLASS_NAMES, training=True,\n",
    "    root_path=Path(args.data_path), logger=logger\n",
    ")\n",
    "logger.info(f'Total number of samples: \\t{len(demo_dataset)}')\n",
    "\n",
    "model = build_network(model_cfg=cfg.MODEL, num_class=len(\n",
    "    cfg.CLASS_NAMES), dataset=demo_dataset)\n",
    "model.load_params_from_file(filename=args.ckpt, logger=logger, to_cpu=True)\n",
    "model.cuda()\n",
    "model.eval()\n",
    "with torch.no_grad():\n",
    "    for idx, data_dict in enumerate(demo_dataset):\n",
    "        if idx == 1:\n",
    "            break\n",
    "        logger.info(f'Visualized sample index: \\t{idx + 1}')\n",
    "        data_dict = demo_dataset.collate_batch([data_dict])\n",
    "        print(\"points fater collate = \", data_dict['points'][:,0])\n",
    "        load_data_to_gpu(data_dict)\n",
    "        pred_dicts, _ = model.forward(data_dict)\n",
    "\n",
    "        # pred_dicts includes:\n",
    "        #     pred_boxes, N x 7\n",
    "        #     pred_scores, N\n",
    "        #     pred_labels\n",
    "        print(pred_dicts)\n",
    "\n",
    "        print(data_dict.keys())\n",
    "\n",
    "#         V.draw_scenes(\n",
    "#             points=data_dict['points'][:,1:], ref_boxes=pred_dicts[0]['pred_boxes'],\n",
    "#             ref_scores=pred_dicts[0]['pred_scores'], ref_labels=pred_dicts[0]['pred_labels']\n",
    "#         )\n",
    "#         mlab.show(stop=True)\n",
    "\n",
    "\n",
    "logger.info('Demo done.')"
   ]
  },
  {
   "cell_type": "code",
   "execution_count": 4,
   "metadata": {},
   "outputs": [],
   "source": [
    "from mpl_toolkits.mplot3d import Axes3D\n",
    "def visualize_pts(pts, fig=None, bgcolor=(1,1,1), fgcolor=(1.0, 1.0, 1.0),\n",
    "                  show_intensity=True, size=(600, 600), draw_origin=True):\n",
    "    if not isinstance(pts, np.ndarray):\n",
    "        pts = pts.cpu().numpy()\n",
    "    if fig is None:\n",
    "        fig = plt.figure(figsize=(20, 10))\n",
    "        \n",
    "        ax = fig.add_subplot(111, projection='3d')\n",
    "        ax.set_facecolor(bgcolor)\n",
    "\n",
    "    if show_intensity:\n",
    "\n",
    "        ax.scatter(pts[:, 0], pts[:, 1], pts[:, 2], c=pts[:,3], s=0.01, marker=',')\n",
    "    else:\n",
    "        ax.scatter(pts[:, 0], pts[:, 1], pts[:, 2], s=0.01, marker=',')\n",
    "        \n",
    "    if draw_origin:\n",
    "        ax.plot([0,3], [0,0], [0,0], color=(0,0,1))\n",
    "        ax.plot([0,0], [0,3], [0,0], color=(0,1,0))\n",
    "        ax.plot([0,0], [0,0], [0,3], color=(1,0,0))\n",
    "    \n",
    "    return ax\n",
    "\n",
    "    # if draw_origin:"
   ]
  },
  {
   "cell_type": "code",
   "execution_count": 5,
   "metadata": {},
   "outputs": [
    {
     "data": {
      "application/vnd.jupyter.widget-view+json": {
       "model_id": "a06df24900fd4897a161bea6e576c48c",
       "version_major": 2,
       "version_minor": 0
      },
      "text/plain": [
       "Canvas(toolbar=Toolbar(toolitems=[('Home', 'Reset original view', 'home', 'home'), ('Back', 'Back to previous …"
      ]
     },
     "metadata": {},
     "output_type": "display_data"
    },
    {
     "data": {
      "application/vnd.jupyter.widget-view+json": {
       "model_id": "3d53eeb10f8e46af941fc7c3e65e2813",
       "version_major": 2,
       "version_minor": 0
      },
      "text/plain": [
       "Canvas(toolbar=Toolbar(toolitems=[('Home', 'Reset original view', 'home', 'home'), ('Back', 'Back to previous …"
      ]
     },
     "metadata": {},
     "output_type": "display_data"
    },
    {
     "data": {
      "application/vnd.jupyter.widget-view+json": {
       "model_id": "b8d149a57c9b4a6b8cd3fdb5535b0abf",
       "version_major": 2,
       "version_minor": 0
      },
      "text/plain": [
       "Canvas(toolbar=Toolbar(toolitems=[('Home', 'Reset original view', 'home', 'home'), ('Back', 'Back to previous …"
      ]
     },
     "metadata": {},
     "output_type": "display_data"
    },
    {
     "data": {
      "text/plain": [
       "[<matplotlib.lines.Line2D at 0x7f18614dfc50>]"
      ]
     },
     "execution_count": 5,
     "metadata": {},
     "output_type": "execute_result"
    }
   ],
   "source": [
    "fig = plt.figure()\n",
    "points = data_dict['points']\n",
    "\n",
    "plt.plot(points[:,2])\n",
    "fig = plt.figure()\n",
    "plt.plot(points[:,1])\n",
    "fig = plt.figure()\n",
    "plt.plot(points[:,0])"
   ]
  },
  {
   "cell_type": "code",
   "execution_count": 6,
   "metadata": {},
   "outputs": [
    {
     "data": {
      "application/vnd.jupyter.widget-view+json": {
       "model_id": "04022a885ef44935944cae4df86bf2f2",
       "version_major": 2,
       "version_minor": 0
      },
      "text/plain": [
       "Canvas(toolbar=Toolbar(toolitems=[('Home', 'Reset original view', 'home', 'home'), ('Back', 'Back to previous …"
      ]
     },
     "metadata": {},
     "output_type": "display_data"
    }
   ],
   "source": [
    "ax = visualize_pts(points)"
   ]
  },
  {
   "cell_type": "code",
   "execution_count": 7,
   "metadata": {},
   "outputs": [],
   "source": [
    "def draw_grid(x1, y1, x2, y2, ax, color=(1,0.5,0.5)):\n",
    "    ax.plot([x1, x1], [y1, y2], [0, 0], color=color, linewidth=1)\n",
    "    ax.plot([x2, x2], [y1, y2], [0, 0], color=color, linewidth=1)\n",
    "    ax.plot([x1, x2], [y1, y1], [0, 0], color=color, linewidth=1)\n",
    "    ax.plot([x1, x2], [y2, y2], [0, 0], color=color, linewidth=1)\n",
    "    return ax\n",
    "\n",
    "def draw_multi_grid_range(ax, grid_size=20, bv_range=(-60, -60, 60, 60)):\n",
    "    for x in range(bv_range[0], bv_range[2], grid_size):\n",
    "        for y in range(bv_range[1], bv_range[3], grid_size):\n",
    "            ax = draw_grid(x, y, x + grid_size, y+grid_size, ax) \n",
    "    return ax"
   ]
  },
  {
   "cell_type": "code",
   "execution_count": 8,
   "metadata": {},
   "outputs": [
    {
     "data": {
      "text/plain": [
       "<Axes3DSubplot:>"
      ]
     },
     "execution_count": 8,
     "metadata": {},
     "output_type": "execute_result"
    }
   ],
   "source": [
    "draw_multi_grid_range(ax, bv_range=(0, -40, 80, 40))"
   ]
  },
  {
   "cell_type": "code",
   "execution_count": 9,
   "metadata": {},
   "outputs": [],
   "source": [
    "def check_numpy_to_torch(x):\n",
    "    if isinstance(x, np.ndarray):\n",
    "        return torch.from_numpy(x).float(), True\n",
    "    return x, False\n",
    "\n",
    "\n",
    "def rotate_points_along_z(points, angle):\n",
    "    \"\"\"\n",
    "    Args:\n",
    "        points: (B, N, 3 + C)\n",
    "        angle: (B), angle along z-axis, angle increases x ==> y\n",
    "    Returns:\n",
    "\n",
    "    \"\"\"\n",
    "    points, is_numpy = check_numpy_to_torch(points)\n",
    "    angle, _ = check_numpy_to_torch(angle)\n",
    "\n",
    "    cosa = torch.cos(angle)\n",
    "    sina = torch.sin(angle)\n",
    "    zeros = angle.new_zeros(points.shape[0])\n",
    "    ones = angle.new_ones(points.shape[0])\n",
    "    rot_matrix = torch.stack((\n",
    "        cosa,  sina, zeros,\n",
    "        -sina, cosa, zeros,\n",
    "        zeros, zeros, ones\n",
    "    ), dim=1).view(-1, 3, 3).float()\n",
    "    points_rot = torch.matmul(points[:, :, 0:3], rot_matrix)\n",
    "    points_rot = torch.cat((points_rot, points[:, :, 3:]), dim=-1)\n",
    "    return points_rot.numpy() if is_numpy else points_rot\n",
    "\n",
    "\n",
    "def boxes_to_corners_3d(boxes3d):\n",
    "    \"\"\"\n",
    "        7 -------- 4\n",
    "       /|         /|\n",
    "      6 -------- 5 .\n",
    "      | |        | |\n",
    "      . 3 -------- 0\n",
    "      |/         |/\n",
    "      2 -------- 1\n",
    "    Args:\n",
    "        boxes3d:  (N, 7) [x, y, z, dx, dy, dz, heading], (x, y, z) is the box center\n",
    "\n",
    "    Returns:\n",
    "    \"\"\"\n",
    "    boxes3d, is_numpy = check_numpy_to_torch(boxes3d)\n",
    "\n",
    "    template = boxes3d.new_tensor((\n",
    "        [1, 1, -1], [1, -1, -1], [-1, -1, -1], [-1, 1, -1],\n",
    "        [1, 1, 1], [1, -1, 1], [-1, -1, 1], [-1, 1, 1],\n",
    "    )) / 2\n",
    "\n",
    "    corners3d = boxes3d[:, None, 3:6].repeat(1, 8, 1) * template[None, :, :]\n",
    "    corners3d = rotate_points_along_z(corners3d.view(-1, 8, 3), boxes3d[:, 6]).view(-1, 8, 3)\n",
    "    corners3d += boxes3d[:, None, 0:3]\n",
    "\n",
    "    return corners3d.numpy() if is_numpy else corners3d"
   ]
  },
  {
   "cell_type": "code",
   "execution_count": 10,
   "metadata": {},
   "outputs": [],
   "source": [
    "\n",
    "def draw_corners3d(corners3d, ax, color=(1, 1, 1), line_width=1, cls=None, tag='', max_num=500, tube_radius=None):\n",
    "    \"\"\"\n",
    "    :param corners3d: (N, 8, 3)\n",
    "    :param fig:\n",
    "    :param color:\n",
    "    :param line_width:\n",
    "    :param cls:\n",
    "    :param tag:\n",
    "    :param max_num:\n",
    "    :return:\n",
    "    \"\"\"\n",
    "    num = min(max_num, len(corners3d))\n",
    "    for n in range(num):\n",
    "        b = corners3d[n]  # (8, 3)\n",
    "\n",
    "        if cls is not None:\n",
    "            if isinstance(cls, np.ndarray):\n",
    "                ax.text(b[6, 0], b[6, 1], b[6, 2], '%.2f' % cls[n], fontsize=0.3, color=color)\n",
    "            else:\n",
    "                ax.text(b[6, 0], b[6, 1], b[6, 2], '%s' % cls[n], fontsize=0.3, color=color)\n",
    "\n",
    "        for k in range(0, 4):\n",
    "            i, j = k, (k + 1) % 4\n",
    "            ax.plot([b[i, 0], b[j, 0]], [b[i, 1], b[j, 1]], [b[i, 2], b[j, 2]], color=color,\n",
    "                        linewidth=line_width)\n",
    "\n",
    "            i, j = k + 4, (k + 1) % 4 + 4\n",
    "            ax.plot([b[i, 0], b[j, 0]], [b[i, 1], b[j, 1]], [b[i, 2], b[j, 2]], color=color,\n",
    "                        linewidth=line_width)\n",
    "\n",
    "            i, j = k, k + 4\n",
    "            ax.plot([b[i, 0], b[j, 0]], [b[i, 1], b[j, 1]], [b[i, 2], b[j, 2]], color=color,\n",
    "                        linewidth=line_width)\n",
    "\n",
    "        i, j = 0, 5\n",
    "        ax.plot([b[i, 0], b[j, 0]], [b[i, 1], b[j, 1]], [b[i, 2], b[j, 2]], color=color,\n",
    "                    linewidth=line_width)\n",
    "        i, j = 1, 4\n",
    "        ax.plot([b[i, 0], b[j, 0]], [b[i, 1], b[j, 1]], [b[i, 2], b[j, 2]], color=color,\n",
    "                    linewidth=line_width)\n",
    "\n",
    "    return ax\n",
    "\n"
   ]
  },
  {
   "cell_type": "code",
   "execution_count": 11,
   "metadata": {},
   "outputs": [],
   "source": [
    "ref_boxes=pred_dicts[0]['pred_boxes'].cpu().numpy()\n",
    "ref_scores=pred_dicts[0]['pred_scores'].cpu().numpy()\n",
    "ref_labels=pred_dicts[0]['pred_labels'].cpu().numpy()\n",
    "\n",
    "ref_corners3d = boxes_to_corners_3d(ref_boxes)\n",
    "ax = draw_corners3d(ref_corners3d, ax, color=(0,1,0), cls=ref_scores, max_num=100)\n",
    "\n",
    "box_colormap = [\n",
    "    [1, 1, 1],\n",
    "    [0, 1, 0],\n",
    "    [0, 1, 1],\n",
    "    [1, 1, 0],\n",
    "]\n",
    "\n",
    "gt_boxes = data_dict['gt_boxes']\n",
    "if gt_boxes is not None:\n",
    "    corners3d = boxes_to_corners_3d(gt_boxes)\n",
    "    ax = draw_corners3d(corners3d, ax, color=(0, 0, 1), max_num=100)\n",
    "\n",
    "    if ref_boxes is not None:\n",
    "        ref_corners3d = boxes_to_corners_3d(ref_boxes)\n",
    "        if ref_labels is None:\n",
    "            ax = draw_corners3d(ref_corners3d, ax, color=(0, 1, 0), cls=ref_scores, max_num=100)\n",
    "        else:\n",
    "            for k in range(ref_labels.min(), ref_labels.max() + 1):\n",
    "                cur_color = tuple(box_colormap[k % len(box_colormap)])\n",
    "                mask = (ref_labels == k)\n",
    "                ax = draw_corners3d(ref_corners3d[mask], ax, color=cur_color, cls=ref_scores[mask], max_num=100)"
   ]
  },
  {
   "cell_type": "code",
   "execution_count": 12,
   "metadata": {},
   "outputs": [
    {
     "data": {
      "text/plain": [
       "dict_keys(['points', 'frame_id', 'gt_boxes', 'use_lead_xyz', 'voxels', 'voxel_coords', 'voxel_num_points', 'image_shape'])"
      ]
     },
     "execution_count": 12,
     "metadata": {},
     "output_type": "execute_result"
    }
   ],
   "source": [
    "data_dict.keys()"
   ]
  },
  {
   "cell_type": "code",
   "execution_count": null,
   "metadata": {},
   "outputs": [],
   "source": []
  },
  {
   "cell_type": "code",
   "execution_count": null,
   "metadata": {},
   "outputs": [],
   "source": []
  }
 ],
 "metadata": {
  "kernelspec": {
   "display_name": "Python 3.7.7 64-bit ('sphconv': conda)",
   "language": "python",
   "name": "python37764bitsphconvconda6f56c650dde3466280cb82ecbfed5d7d"
  },
  "language_info": {
   "codemirror_mode": {
    "name": "ipython",
    "version": 3
   },
   "file_extension": ".py",
   "mimetype": "text/x-python",
   "name": "python",
   "nbconvert_exporter": "python",
   "pygments_lexer": "ipython3",
   "version": "3.7.7"
  }
 },
 "nbformat": 4,
 "nbformat_minor": 2
}
